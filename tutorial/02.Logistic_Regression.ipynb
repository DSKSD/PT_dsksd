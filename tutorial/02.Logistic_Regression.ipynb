{
 "cells": [
  {
   "cell_type": "code",
   "execution_count": 6,
   "metadata": {},
   "outputs": [],
   "source": [
    "import torch\n",
    "import torch.nn as nn\n",
    "import torchvision.datasets as dsets\n",
    "import torchvision.transforms as transforms\n",
    "from torch.autograd import Variable\n",
    "import torch.nn.functional as F"
   ]
  },
  {
   "cell_type": "code",
   "execution_count": 3,
   "metadata": {
    "collapsed": true
   },
   "outputs": [],
   "source": [
    "# Hyper Parameters \n",
    "input_size = 784\n",
    "num_classes = 10\n",
    "num_epochs = 5\n",
    "batch_size = 100\n",
    "learning_rate = 0.001"
   ]
  },
  {
   "cell_type": "code",
   "execution_count": 4,
   "metadata": {},
   "outputs": [
    {
     "name": "stdout",
     "output_type": "stream",
     "text": [
      "Downloading http://yann.lecun.com/exdb/mnist/train-images-idx3-ubyte.gz\n",
      "Downloading http://yann.lecun.com/exdb/mnist/train-labels-idx1-ubyte.gz\n",
      "Downloading http://yann.lecun.com/exdb/mnist/t10k-images-idx3-ubyte.gz\n",
      "Downloading http://yann.lecun.com/exdb/mnist/t10k-labels-idx1-ubyte.gz\n",
      "Processing...\n",
      "Done!\n"
     ]
    }
   ],
   "source": [
    "# MNIST Dataset (Images and Labels)\n",
    "train_dataset = dsets.MNIST(root='../../dataset/mnist', \n",
    "                            train=True, \n",
    "                            transform=transforms.ToTensor(),\n",
    "                            download=True)\n",
    "\n",
    "test_dataset = dsets.MNIST(root='../../dataset/mnist', \n",
    "                           train=False, \n",
    "                           transform=transforms.ToTensor())\n",
    "\n",
    "# Dataset Loader (Input Pipline)\n",
    "train_loader = torch.utils.data.DataLoader(dataset=train_dataset, \n",
    "                                           batch_size=batch_size, \n",
    "                                           shuffle=True)\n",
    "\n",
    "test_loader = torch.utils.data.DataLoader(dataset=test_dataset, \n",
    "                                          batch_size=batch_size, \n",
    "                                          shuffle=False)"
   ]
  },
  {
   "cell_type": "code",
   "execution_count": 13,
   "metadata": {
    "collapsed": true
   },
   "outputs": [],
   "source": [
    "class LogisticRegression(nn.Module):\n",
    "    def __init__(self, input_size, num_classes):\n",
    "        super(LogisticRegression, self).__init__()\n",
    "        self.linear = nn.Linear(input_size, num_classes)\n",
    "    \n",
    "    def forward(self, x):\n",
    "        out = self.linear(x)\n",
    "        return F.log_softmax(out) \n",
    "        # CrossEntropy 내부에서 softmax 계산해주는 모양인데 log_softmax 쓰면 로스가 더 줄어든다\n",
    "        # 뭐지..? 그냥 softmax 쓰면 중첩되서 로스가 안줄어듬"
   ]
  },
  {
   "cell_type": "code",
   "execution_count": 14,
   "metadata": {
    "collapsed": true
   },
   "outputs": [],
   "source": [
    "model = LogisticRegression(input_size, num_classes)\n",
    "\n",
    "# Loss and Optimizer\n",
    "# Softmax is internally computed.\n",
    "# Set parameters to be updated.\n",
    "criterion = nn.CrossEntropyLoss()  \n",
    "optimizer = torch.optim.SGD(model.parameters(), lr=learning_rate)  "
   ]
  },
  {
   "cell_type": "code",
   "execution_count": 15,
   "metadata": {},
   "outputs": [
    {
     "name": "stdout",
     "output_type": "stream",
     "text": [
      "Epoch: [1/5], Step: [100/600], Loss: 2.2386\n",
      "Epoch: [1/5], Step: [200/600], Loss: 2.1150\n",
      "Epoch: [1/5], Step: [300/600], Loss: 2.0211\n",
      "Epoch: [1/5], Step: [400/600], Loss: 1.9450\n",
      "Epoch: [1/5], Step: [500/600], Loss: 1.8529\n",
      "Epoch: [1/5], Step: [600/600], Loss: 1.7382\n",
      "Epoch: [2/5], Step: [100/600], Loss: 1.7467\n",
      "Epoch: [2/5], Step: [200/600], Loss: 1.6677\n",
      "Epoch: [2/5], Step: [300/600], Loss: 1.5661\n",
      "Epoch: [2/5], Step: [400/600], Loss: 1.5083\n",
      "Epoch: [2/5], Step: [500/600], Loss: 1.5519\n",
      "Epoch: [2/5], Step: [600/600], Loss: 1.5156\n",
      "Epoch: [3/5], Step: [100/600], Loss: 1.3911\n",
      "Epoch: [3/5], Step: [200/600], Loss: 1.3999\n",
      "Epoch: [3/5], Step: [300/600], Loss: 1.3163\n",
      "Epoch: [3/5], Step: [400/600], Loss: 1.2420\n",
      "Epoch: [3/5], Step: [500/600], Loss: 1.3027\n",
      "Epoch: [3/5], Step: [600/600], Loss: 1.2045\n",
      "Epoch: [4/5], Step: [100/600], Loss: 1.1302\n",
      "Epoch: [4/5], Step: [200/600], Loss: 1.1967\n",
      "Epoch: [4/5], Step: [300/600], Loss: 1.1152\n",
      "Epoch: [4/5], Step: [400/600], Loss: 1.1326\n",
      "Epoch: [4/5], Step: [500/600], Loss: 1.1282\n",
      "Epoch: [4/5], Step: [600/600], Loss: 1.1212\n",
      "Epoch: [5/5], Step: [100/600], Loss: 1.1105\n",
      "Epoch: [5/5], Step: [200/600], Loss: 1.0402\n",
      "Epoch: [5/5], Step: [300/600], Loss: 1.0449\n",
      "Epoch: [5/5], Step: [400/600], Loss: 0.9804\n",
      "Epoch: [5/5], Step: [500/600], Loss: 1.0055\n",
      "Epoch: [5/5], Step: [600/600], Loss: 0.9669\n"
     ]
    }
   ],
   "source": [
    "# Training the Model\n",
    "for epoch in range(num_epochs):\n",
    "    for i, (images, labels) in enumerate(train_loader):\n",
    "        images = Variable(images.view(-1, 28*28))\n",
    "        labels = Variable(labels)\n",
    "        \n",
    "        # Forward + Backward + Optimize\n",
    "        optimizer.zero_grad()\n",
    "        outputs = model(images)\n",
    "        loss = criterion(outputs, labels)\n",
    "        loss.backward()\n",
    "        optimizer.step()\n",
    "        \n",
    "        if (i+1) % 100 == 0:\n",
    "            print ('Epoch: [%d/%d], Step: [%d/%d], Loss: %.4f' \n",
    "                   % (epoch+1, num_epochs, i+1, len(train_dataset)//batch_size, loss.data[0]))"
   ]
  },
  {
   "cell_type": "code",
   "execution_count": 18,
   "metadata": {},
   "outputs": [
    {
     "name": "stdout",
     "output_type": "stream",
     "text": [
      "Accuracy of the model on the 10000 test images: 82 %\n"
     ]
    }
   ],
   "source": [
    "# Test the Model\n",
    "correct = 0\n",
    "total = 0\n",
    "for images, labels in test_loader:\n",
    "    images = Variable(images.view(-1, 28*28))\n",
    "    outputs = model(images)\n",
    "    _, predicted = torch.max(outputs.data, 1)\n",
    "    total += labels.size(0)\n",
    "    correct += (predicted == labels).sum()\n",
    "    \n",
    "print('Accuracy of the model on the 10000 test images: %d %%' % (100 * correct / total))"
   ]
  },
  {
   "cell_type": "code",
   "execution_count": null,
   "metadata": {
    "collapsed": true
   },
   "outputs": [],
   "source": []
  }
 ],
 "metadata": {
  "kernelspec": {
   "display_name": "Python 3",
   "language": "python",
   "name": "python3"
  },
  "language_info": {
   "codemirror_mode": {
    "name": "ipython",
    "version": 3
   },
   "file_extension": ".py",
   "mimetype": "text/x-python",
   "name": "python",
   "nbconvert_exporter": "python",
   "pygments_lexer": "ipython3",
   "version": "3.5.2"
  }
 },
 "nbformat": 4,
 "nbformat_minor": 2
}

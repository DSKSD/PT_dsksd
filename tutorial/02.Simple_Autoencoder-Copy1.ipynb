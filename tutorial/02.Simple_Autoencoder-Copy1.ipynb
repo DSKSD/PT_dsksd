{
 "cells": [
  {
   "cell_type": "code",
   "execution_count": 34,
   "metadata": {
    "collapsed": true,
    "deletable": true,
    "editable": true
   },
   "outputs": [],
   "source": [
    "import torch\n",
    "import torch.nn as nn\n",
    "import torchvision.datasets as dsets\n",
    "import torchvision.transforms as transforms\n",
    "from torch.autograd import Variable\n",
    "import torch.nn.functional as F\n",
    "import matplotlib.pyplot as plt\n",
    "import random\n",
    "import numpy as np\n",
    "%matplotlib inline  "
   ]
  },
  {
   "cell_type": "markdown",
   "metadata": {},
   "source": [
    "### Regularized Autoencoders "
   ]
  },
  {
   "cell_type": "markdown",
   "metadata": {},
   "source": [
    "code($h$) dimension을 인풋 차원보다 작게 가지는 Undercomplete autoencoders는 데이터의 중요한 특징을 학습할 수 있지만 capacity가 너무 커지면 실패한다는 것을 보았다. 이러한 문제는 인풋 차원과 hidden을 같게 만들거나 더 크게 만드는 overcomplete에서도 나타나는 문제이다. "
   ]
  },
  {
   "cell_type": "markdown",
   "metadata": {},
   "source": [
    "이상적으로는 code dimension과 encoder, decoder의 capacity를 잘 선택하면 어떠한 오토인코더 구조도 학습할 수 있다. <strong>Regularized autoencoders</strong>도 이러한 능력을 제공한다. 인코더와 디코더를 얕게 그리고 code의 사이즈를 작게 유지하는 것 대신, regularized autoencoders는 loss function이 모델을 카피 외에도 다른 속성들을 가지도록 격려한다."
   ]
  },
  {
   "cell_type": "markdown",
   "metadata": {},
   "source": [
    "이러한 속성들은 <strong>sparcity of the representation, smallness of the derivative of the representation, and robustness to noise or to missing inputs</strong> 등이 있다. regularized autoencoder는 비선형이 될 수 있고 overcomp "
   ]
  },
  {
   "cell_type": "code",
   "execution_count": 3,
   "metadata": {
    "collapsed": true,
    "deletable": true,
    "editable": true
   },
   "outputs": [],
   "source": [
    "# Hyper Parameters \n",
    "input_size = 784\n",
    "hidden_size = 256 # undercomplete !\n",
    "num_epochs = 5\n",
    "batch_size = 100\n",
    "learning_rate = 0.01"
   ]
  },
  {
   "cell_type": "code",
   "execution_count": 4,
   "metadata": {
    "collapsed": true,
    "deletable": true,
    "editable": true
   },
   "outputs": [],
   "source": [
    "# MNIST Dataset (Images and Labels)\n",
    "train_dataset = dsets.MNIST(root='../../dataset/mnist', \n",
    "                            train=True, \n",
    "                            transform=transforms.ToTensor(),\n",
    "                            download=True)\n",
    "\n",
    "test_dataset = dsets.MNIST(root='../../dataset/mnist', \n",
    "                           train=False, \n",
    "                           transform=transforms.ToTensor())\n",
    "\n",
    "# Dataset Loader (Input Pipline)\n",
    "train_loader = torch.utils.data.DataLoader(dataset=train_dataset, \n",
    "                                           batch_size=batch_size, \n",
    "                                           shuffle=True)\n",
    "\n",
    "test_loader = torch.utils.data.DataLoader(dataset=test_dataset, \n",
    "                                          batch_size=batch_size, \n",
    "                                          shuffle=False)"
   ]
  },
  {
   "cell_type": "code",
   "execution_count": 5,
   "metadata": {
    "collapsed": true,
    "deletable": true,
    "editable": true
   },
   "outputs": [],
   "source": [
    "class Autoencoder(nn.Module):\n",
    "    def __init__(self, input_size,hidden_size):\n",
    "        super(Autoencoder, self).__init__()\n",
    "        self.f = nn.Linear(input_size, hidden_size)\n",
    "        self.g = nn.Linear(hidden_size, input_size)\n",
    "        self.sigmoid = nn.Sigmoid()\n",
    "\n",
    "    def forward(self, x):\n",
    "        h = self.sigmoid(self.f(x)) # nonlinearity \n",
    "        r = self.sigmoid(self.g(h)) # nonlinearity\n",
    "        return r"
   ]
  },
  {
   "cell_type": "code",
   "execution_count": 7,
   "metadata": {
    "collapsed": true,
    "deletable": true,
    "editable": true
   },
   "outputs": [],
   "source": [
    "model = Autoencoder(input_size,hidden_size)\n",
    "\n",
    "# Loss and Optimizer\n",
    "# Softmax is internally computed.\n",
    "# Set parameters to be updated.\n",
    "criterion = nn.MSELoss()  \n",
    "optimizer = torch.optim.Adam(model.parameters(), lr=learning_rate)  "
   ]
  },
  {
   "cell_type": "code",
   "execution_count": 10,
   "metadata": {
    "collapsed": false,
    "deletable": true,
    "editable": true
   },
   "outputs": [
    {
     "name": "stdout",
     "output_type": "stream",
     "text": [
      "Epoch: [1/5], Step: [100/600], Loss: 0.0271\n",
      "Epoch: [1/5], Step: [200/600], Loss: 0.0171\n",
      "Epoch: [1/5], Step: [300/600], Loss: 0.0128\n",
      "Epoch: [1/5], Step: [400/600], Loss: 0.0101\n",
      "Epoch: [1/5], Step: [500/600], Loss: 0.0089\n",
      "Epoch: [1/5], Step: [600/600], Loss: 0.0078\n",
      "Epoch: [2/5], Step: [100/600], Loss: 0.0063\n",
      "Epoch: [2/5], Step: [200/600], Loss: 0.0051\n",
      "Epoch: [2/5], Step: [300/600], Loss: 0.0050\n",
      "Epoch: [2/5], Step: [400/600], Loss: 0.0045\n",
      "Epoch: [2/5], Step: [500/600], Loss: 0.0039\n",
      "Epoch: [2/5], Step: [600/600], Loss: 0.0041\n",
      "Epoch: [3/5], Step: [100/600], Loss: 0.0036\n",
      "Epoch: [3/5], Step: [200/600], Loss: 0.0035\n",
      "Epoch: [3/5], Step: [300/600], Loss: 0.0032\n",
      "Epoch: [3/5], Step: [400/600], Loss: 0.0024\n",
      "Epoch: [3/5], Step: [500/600], Loss: 0.0031\n",
      "Epoch: [3/5], Step: [600/600], Loss: 0.0026\n",
      "Epoch: [4/5], Step: [100/600], Loss: 0.0027\n",
      "Epoch: [4/5], Step: [200/600], Loss: 0.0027\n",
      "Epoch: [4/5], Step: [300/600], Loss: 0.0024\n",
      "Epoch: [4/5], Step: [400/600], Loss: 0.0022\n",
      "Epoch: [4/5], Step: [500/600], Loss: 0.0023\n",
      "Epoch: [4/5], Step: [600/600], Loss: 0.0022\n",
      "Epoch: [5/5], Step: [100/600], Loss: 0.0023\n",
      "Epoch: [5/5], Step: [200/600], Loss: 0.0019\n",
      "Epoch: [5/5], Step: [300/600], Loss: 0.0020\n",
      "Epoch: [5/5], Step: [400/600], Loss: 0.0021\n",
      "Epoch: [5/5], Step: [500/600], Loss: 0.0019\n",
      "Epoch: [5/5], Step: [600/600], Loss: 0.0021\n"
     ]
    }
   ],
   "source": [
    "# Training the Model\n",
    "for epoch in range(num_epochs):\n",
    "    for i, (images, labels) in enumerate(train_loader):\n",
    "        images = Variable(images.view(-1, 28*28))\n",
    "        labels = Variable(labels)\n",
    "        \n",
    "        # Forward + Backward + Optimize\n",
    "        optimizer.zero_grad()\n",
    "        recon = model(images)\n",
    "        loss = criterion(recon, images)\n",
    "        loss.backward()\n",
    "        optimizer.step()\n",
    "        \n",
    "        if (i+1) % 100 == 0:\n",
    "            print ('Epoch: [%d/%d], Step: [%d/%d], Loss: %.4f' \n",
    "                   % (epoch+1, num_epochs, i+1, len(train_dataset)//batch_size, loss.data[0]))"
   ]
  },
  {
   "cell_type": "markdown",
   "metadata": {
    "deletable": true,
    "editable": true
   },
   "source": [
    "### test "
   ]
  },
  {
   "cell_type": "code",
   "execution_count": 50,
   "metadata": {
    "collapsed": false,
    "deletable": true,
    "editable": true
   },
   "outputs": [
    {
     "data": {
      "image/png": "[encoded data removed]",
      "text/plain": [
       "<matplotlib.figure.Figure at 0x7f6b17693c50>"
      ]
     },
     "metadata": {},
     "output_type": "display_data"
    },
    {
     "data": {
      "image/png": "[encoded data removed]",
      "text/plain": [
       "<matplotlib.figure.Figure at 0x7f6b1239ef60>"
      ]
     },
     "metadata": {},
     "output_type": "display_data"
    }
   ],
   "source": [
    "index = random.choice(range(10000))\n",
    "test = test_dataset[index][0]\n",
    "\n",
    "plt.matshow(np.reshape(test.numpy(), (28, 28)), cmap=plt.get_cmap('gray'))\n",
    "plt.title(\"[\" + str(epoch) + \"] Original Image\")\n",
    "plt.colorbar()\n",
    "plt.show()\n",
    "\n",
    "recon = model(Variable(test.view(-1,28*28)))\n",
    "\n",
    "plt.matshow(np.reshape(recon.data.numpy(), (28, 28)), cmap=plt.get_cmap('gray'))\n",
    "plt.title(\"[\" + str(epoch) + \"] Reconstructed Image\")\n",
    "plt.colorbar()\n",
    "plt.show()"
   ]
  },
  {
   "cell_type": "code",
   "execution_count": null,
   "metadata": {
    "collapsed": true,
    "deletable": true,
    "editable": true
   },
   "outputs": [],
   "source": []
  }
 ],
 "metadata": {
  "kernelspec": {
   "display_name": "Python 3",
   "language": "python",
   "name": "python3"
  },
  "language_info": {
   "codemirror_mode": {
    "name": "ipython",
    "version": 3
   },
   "file_extension": ".py",
   "mimetype": "text/x-python",
   "name": "python",
   "nbconvert_exporter": "python",
   "pygments_lexer": "ipython3",
   "version": "3.5.2"
  }
 },
 "nbformat": 4,
 "nbformat_minor": 2
}

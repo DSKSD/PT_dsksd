{
 "cells": [
  {
   "cell_type": "code",
   "execution_count": 4,
   "metadata": {
    "collapsed": true
   },
   "outputs": [],
   "source": [
    "import torch \n",
    "import torch.nn as nn\n",
    "import torchvision.datasets as dsets\n",
    "import torchvision.transforms as transforms\n",
    "from torch.autograd import Variable\n",
    "import torch.functional as F"
   ]
  },
  {
   "cell_type": "code",
   "execution_count": 2,
   "metadata": {
    "collapsed": true
   },
   "outputs": [],
   "source": [
    "# Hyper Parameters\n",
    "num_epochs = 5\n",
    "batch_size = 100\n",
    "learning_rate = 0.001"
   ]
  },
  {
   "cell_type": "code",
   "execution_count": 3,
   "metadata": {
    "collapsed": true
   },
   "outputs": [],
   "source": [
    "# MNIST Dataset \n",
    "train_dataset = dsets.MNIST(root='../../dataset/mnist', \n",
    "                            train=True, \n",
    "                            transform=transforms.ToTensor(),  \n",
    "                            download=True)\n",
    "\n",
    "test_dataset = dsets.MNIST(root='../../dataset/mnist', \n",
    "                           train=False, \n",
    "                           transform=transforms.ToTensor())\n",
    "\n",
    "# Data Loader (Input Pipeline)\n",
    "train_loader = torch.utils.data.DataLoader(dataset=train_dataset, \n",
    "                                           batch_size=batch_size, \n",
    "                                           shuffle=True)\n",
    "\n",
    "test_loader = torch.utils.data.DataLoader(dataset=test_dataset, \n",
    "                                          batch_size=batch_size, \n",
    "                                          shuffle=False)"
   ]
  },
  {
   "cell_type": "code",
   "execution_count": 8,
   "metadata": {
    "collapsed": true
   },
   "outputs": [],
   "source": [
    "# CNN Model (2 conv layer)\n",
    "class CNN(nn.Module):\n",
    "    def __init__(self):\n",
    "        super(CNN, self).__init__()\n",
    "        self.layer1 = nn.Sequential(\n",
    "            nn.Conv2d(1, 16, kernel_size=5, padding=2), # mnist는 흑백 28,28,1\n",
    "            nn.BatchNorm2d(16),\n",
    "            nn.ReLU(),\n",
    "            nn.MaxPool2d(2)) # kernal size\n",
    "        self.layer2 = nn.Sequential(\n",
    "            nn.Conv2d(16, 32, kernel_size=5, padding=2),\n",
    "            nn.BatchNorm2d(32),\n",
    "            nn.ReLU(),\n",
    "            nn.MaxPool2d(2))\n",
    "        self.fc1 = nn.Linear(7*7*32, 256)\n",
    "        self.fc2 = nn.Linear(256,10)\n",
    "        self.relu = nn.ReLU()\n",
    "    def forward(self, x):\n",
    "        out = self.layer1(x)\n",
    "        out = self.layer2(out)\n",
    "        out = out.view(out.size(0), -1) # 배치사이즈x한줄로 펴기\n",
    "        out = self.fc1(out) # FFN\n",
    "        out = self.fc2(self.relu(out))\n",
    "        return out"
   ]
  },
  {
   "cell_type": "markdown",
   "metadata": {},
   "source": [
    "#### nn.Sequential"
   ]
  },
  {
   "cell_type": "markdown",
   "metadata": {},
   "source": [
    "A sequential container. Modules will be added to it in the order they are passed in the constructor."
   ]
  },
  {
   "cell_type": "markdown",
   "metadata": {},
   "source": [
    "#### nn.Conv2d(in_channels, out_channels, kernel_size, stride=1, padding=0, dilation=1, groups=1, bias=True)"
   ]
  },
  {
   "cell_type": "markdown",
   "metadata": {},
   "source": [
    "Applies a 2D convolution over an input signal composed of several input planes.\n",
    "\n",
    "In the simplest case, the output value of the layer with input size $(N,C_{in},H,W)$ and output $(N,C_{out},H_{out},W_{out})$ can be precisely described as:\n",
    "\n",
    "$out(N_i,C_{out_j})=bias(C_{out_j})+∑^{C_in−1}_{k=0} weight_{(C_{out_j},k)}⋆input_{(N_i,k)}$"
   ]
  },
  {
   "cell_type": "markdown",
   "metadata": {},
   "source": [
    "$Input: (N,C_{in},D_{in},H_{in},W_{in})$<br>\n",
    "$Output: (N,C_{out},D_{out},H_{out},W_{out})$ where<br> $D_{out}=floor((D_{in}+2∗padding[0]−dilation[0]∗(kernel\\_size[0]−1)−1)/stride[0]+1)$ $H_{out}=floor((H_{in}+2∗padding[1]−dilation[1]∗(kernel\\_size[1]−1)−1)/stride[1]+1)$\n",
    "$W_{out}=floor((W_{in}+2∗padding[2]−dilation[2]∗(kernel\\_size[2]−1)−1)/stride[2]+1)$"
   ]
  },
  {
   "cell_type": "markdown",
   "metadata": {},
   "source": [
    "* Output Size : N-F/stride+1\n",
    "* Padding Size : (F-1)/2"
   ]
  },
  {
   "cell_type": "code",
   "execution_count": 9,
   "metadata": {
    "collapsed": true
   },
   "outputs": [],
   "source": [
    "cnn = CNN()\n",
    "# Loss and Optimizer\n",
    "criterion = nn.CrossEntropyLoss()\n",
    "optimizer = torch.optim.Adam(cnn.parameters(), lr=learning_rate)"
   ]
  },
  {
   "cell_type": "code",
   "execution_count": 10,
   "metadata": {},
   "outputs": [
    {
     "name": "stdout",
     "output_type": "stream",
     "text": [
      "Epoch [1/5], Iter [100/600] Loss: 0.1305\n",
      "Epoch [1/5], Iter [200/600] Loss: 0.0836\n",
      "Epoch [1/5], Iter [300/600] Loss: 0.0558\n",
      "Epoch [1/5], Iter [400/600] Loss: 0.1149\n",
      "Epoch [1/5], Iter [500/600] Loss: 0.0770\n",
      "Epoch [1/5], Iter [600/600] Loss: 0.0470\n",
      "Epoch [2/5], Iter [100/600] Loss: 0.0118\n",
      "Epoch [2/5], Iter [200/600] Loss: 0.1812\n",
      "Epoch [2/5], Iter [300/600] Loss: 0.0476\n",
      "Epoch [2/5], Iter [400/600] Loss: 0.0260\n",
      "Epoch [2/5], Iter [500/600] Loss: 0.0694\n",
      "Epoch [2/5], Iter [600/600] Loss: 0.0411\n",
      "Epoch [3/5], Iter [100/600] Loss: 0.0135\n",
      "Epoch [3/5], Iter [200/600] Loss: 0.0125\n",
      "Epoch [3/5], Iter [300/600] Loss: 0.1280\n",
      "Epoch [3/5], Iter [400/600] Loss: 0.0664\n",
      "Epoch [3/5], Iter [500/600] Loss: 0.0176\n",
      "Epoch [3/5], Iter [600/600] Loss: 0.0170\n",
      "Epoch [4/5], Iter [100/600] Loss: 0.0215\n",
      "Epoch [4/5], Iter [200/600] Loss: 0.0119\n",
      "Epoch [4/5], Iter [300/600] Loss: 0.0125\n",
      "Epoch [4/5], Iter [400/600] Loss: 0.0180\n",
      "Epoch [4/5], Iter [500/600] Loss: 0.0038\n",
      "Epoch [4/5], Iter [600/600] Loss: 0.0020\n",
      "Epoch [5/5], Iter [100/600] Loss: 0.0009\n",
      "Epoch [5/5], Iter [200/600] Loss: 0.0174\n",
      "Epoch [5/5], Iter [300/600] Loss: 0.0586\n",
      "Epoch [5/5], Iter [400/600] Loss: 0.0503\n",
      "Epoch [5/5], Iter [500/600] Loss: 0.0226\n",
      "Epoch [5/5], Iter [600/600] Loss: 0.0638\n"
     ]
    }
   ],
   "source": [
    "# Train the Model\n",
    "for epoch in range(num_epochs):\n",
    "    for i, (images, labels) in enumerate(train_loader):\n",
    "        images = Variable(images)\n",
    "        labels = Variable(labels)\n",
    "        \n",
    "        # Forward + Backward + Optimize\n",
    "        optimizer.zero_grad()\n",
    "        outputs = cnn(images)\n",
    "        loss = criterion(outputs, labels)\n",
    "        loss.backward()\n",
    "        optimizer.step()\n",
    "        \n",
    "        if (i+1) % 100 == 0:\n",
    "            print ('Epoch [%d/%d], Iter [%d/%d] Loss: %.4f' \n",
    "                   %(epoch+1, num_epochs, i+1, len(train_dataset)//batch_size, loss.data[0]))"
   ]
  },
  {
   "cell_type": "code",
   "execution_count": 7,
   "metadata": {},
   "outputs": [
    {
     "name": "stdout",
     "output_type": "stream",
     "text": [
      "Test Accuracy of the model on the 10000 test images: 98 %\n"
     ]
    }
   ],
   "source": [
    "# Test the Model\n",
    "cnn.eval()  # Change model to 'eval' mode (BN uses moving mean/var).\n",
    "correct = 0\n",
    "total = 0\n",
    "for images, labels in test_loader:\n",
    "    images = Variable(images)\n",
    "    outputs = cnn(images)\n",
    "    _, predicted = torch.max(outputs.data, 1)\n",
    "    total += labels.size(0)\n",
    "    correct += (predicted == labels).sum()\n",
    "\n",
    "print('Test Accuracy of the model on the 10000 test images: %d %%' % (100 * correct / total))\n",
    "\n",
    "# Save the Trained Model\n",
    "#torch.save(cnn.state_dict(), 'cnn.pkl')"
   ]
  },
  {
   "cell_type": "code",
   "execution_count": null,
   "metadata": {
    "collapsed": true
   },
   "outputs": [],
   "source": []
  }
 ],
 "metadata": {
  "kernelspec": {
   "display_name": "Python 3",
   "language": "python",
   "name": "python3"
  },
  "language_info": {
   "codemirror_mode": {
    "name": "ipython",
    "version": 3
   },
   "file_extension": ".py",
   "mimetype": "text/x-python",
   "name": "python",
   "nbconvert_exporter": "python",
   "pygments_lexer": "ipython3",
   "version": "3.5.2"
  }
 },
 "nbformat": 4,
 "nbformat_minor": 2
}

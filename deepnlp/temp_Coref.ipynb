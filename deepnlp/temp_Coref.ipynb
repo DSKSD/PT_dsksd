{
 "cells": [
  {
   "cell_type": "code",
   "execution_count": 1,
   "metadata": {
    "collapsed": true
   },
   "outputs": [],
   "source": [
    "import spacy\n",
    "import numpy"
   ]
  },
  {
   "cell_type": "code",
   "execution_count": 2,
   "metadata": {},
   "outputs": [
    {
     "name": "stdout",
     "output_type": "stream",
     "text": [
      "PERSON Bori\n"
     ]
    }
   ],
   "source": [
    "nlp = spacy.load('en')\n",
    "doc = nlp('I love my puppy. And his name is Bori.')\n",
    "for ent in doc.ents:\n",
    "    print(ent.label_, ent.text)"
   ]
  },
  {
   "cell_type": "code",
   "execution_count": 5,
   "metadata": {
    "collapsed": true
   },
   "outputs": [],
   "source": [
    "from konlpy.tag import Mecab\n",
    "tagger=Mecab()"
   ]
  },
  {
   "cell_type": "code",
   "execution_count": null,
   "metadata": {
    "collapsed": true
   },
   "outputs": [],
   "source": [
    "['나','내'],['내 친구','김두기','그']"
   ]
  },
  {
   "cell_type": "code",
   "execution_count": 4,
   "metadata": {},
   "outputs": [
    {
     "data": {
      "text/plain": [
       "[('오늘', 'MAG'),\n",
       " ('나', 'NP'),\n",
       " ('는', 'JX'),\n",
       " ('내', 'NP+JKG'),\n",
       " ('친구', 'NNG'),\n",
       " ('김두기', 'NNP'),\n",
       " ('를', 'JKO'),\n",
       " ('만났', 'VV+EP'),\n",
       " ('다', 'EF'),\n",
       " ('.', 'SF'),\n",
       " ('그', 'NP'),\n",
       " ('는', 'JX'),\n",
       " ('정말', 'MAG'),\n",
       " ('힘', 'NNG'),\n",
       " ('이', 'JKS'),\n",
       " ('세', 'VA'),\n",
       " ('다', 'EF'),\n",
       " ('.', 'SF')]"
      ]
     },
     "execution_count": 4,
     "metadata": {},
     "output_type": "execute_result"
    }
   ],
   "source": [
    "tagger.pos(\"오늘 나는 내 친구 김두기를 만났다. 그는 정말 힘이 세다.\")"
   ]
  },
  {
   "cell_type": "code",
   "execution_count": 7,
   "metadata": {},
   "outputs": [
    {
     "data": {
      "text/plain": [
       "[('첫', 'MM'),\n",
       " ('번', 'NNBC'),\n",
       " ('째', 'XSN'),\n",
       " ('거', 'NNB'),\n",
       " ('로', 'JKB'),\n",
       " ('할게요', 'VV+EC')]"
      ]
     },
     "execution_count": 7,
     "metadata": {},
     "output_type": "execute_result"
    }
   ],
   "source": [
    "tagger.pos(\"첫번째거로 할게요\")"
   ]
  },
  {
   "cell_type": "code",
   "execution_count": null,
   "metadata": {
    "collapsed": true
   },
   "outputs": [],
   "source": []
  }
 ],
 "metadata": {
  "kernelspec": {
   "display_name": "Python 3",
   "language": "python",
   "name": "python3"
  },
  "language_info": {
   "codemirror_mode": {
    "name": "ipython",
    "version": 3
   },
   "file_extension": ".py",
   "mimetype": "text/x-python",
   "name": "python",
   "nbconvert_exporter": "python",
   "pygments_lexer": "ipython3",
   "version": "3.5.2"
  }
 },
 "nbformat": 4,
 "nbformat_minor": 2
}

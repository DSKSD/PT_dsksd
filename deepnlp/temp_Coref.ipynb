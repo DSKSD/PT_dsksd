{
 "cells": [
  {
   "cell_type": "code",
   "execution_count": 1,
   "metadata": {
    "collapsed": true
   },
   "outputs": [],
   "source": [
    "from konlpy.tag import Mecab\n",
    "tagger=Mecab()"
   ]
  },
  {
   "cell_type": "markdown",
   "metadata": {
    "collapsed": true
   },
   "source": [
    "1. Scoring Agent (mention pair scoring) 모델\n",
    "2. document에서 mentions(entity, anaphora, cataphora) 추출\n",
    "3. Scoring for pair (e-greedy하게 pair 선택)\n",
    "4. pair to cluster \n",
    "5. Recall 계산 (Reward rescaling)"
   ]
  },
  {
   "cell_type": "code",
   "execution_count": 2,
   "metadata": {
    "collapsed": true
   },
   "outputs": [],
   "source": [
    "import re"
   ]
  },
  {
   "cell_type": "code",
   "execution_count": 6,
   "metadata": {
    "collapsed": true
   },
   "outputs": [],
   "source": [
    "import re"
   ]
  },
  {
   "cell_type": "code",
   "execution_count": null,
   "metadata": {
    "collapsed": true
   },
   "outputs": [],
   "source": [
    "train_set=[]"
   ]
  },
  {
   "cell_type": "code",
   "execution_count": 4,
   "metadata": {
    "collapsed": true
   },
   "outputs": [],
   "source": [
    "def extract_mentions(sent):\n",
    "    check_list = [re.compile(\"NP.*\"),re.compile(\"(김|이|박|노|정|안|임|문|오|장|한)[가-힣]{2}\")]\n",
    "    tokens = tagger.pos(sent)\n",
    "    candidates=['NEW']\n",
    "    for token in tokens:\n",
    "        for check in check_list:\n",
    "            if check.match(token[1])!=None or check.match(token[0])!=None:\n",
    "                candidates.append(token[0])\n",
    "    \n",
    "    return candidates"
   ]
  },
  {
   "cell_type": "code",
   "execution_count": 7,
   "metadata": {},
   "outputs": [
    {
     "data": {
      "text/plain": [
       "[['문재인 대통령은 독일에서 연설을 하셨다. 그의 연설은 박수를 이끌어 냈다.', [('NEW', '문재인', '그')]],\n",
       " ['이효리와 이상순은 제주도에서 민박집을 하는 컨셉의 방송에 출연 중이다. 그녀는 그를 참 좋아한다.',\n",
       "  [('NEW', '이효리', '이상순'), ('이효리', '그녀'), ('이상순', '그')]],\n",
       " ['너랑 이재훈이랑 아는 사이야? 걔가 그렇게 인기 많다며.', [('NEW', '너', '이재훈'), ('이재훈', '걔')]]]"
      ]
     },
     "execution_count": 7,
     "metadata": {},
     "output_type": "execute_result"
    }
   ],
   "source": [
    "train_set"
   ]
  },
  {
   "cell_type": "code",
   "execution_count": 59,
   "metadata": {},
   "outputs": [
    {
     "data": {
      "text/plain": [
       "['NEW', '너', '이재훈', '걔']"
      ]
     },
     "execution_count": 59,
     "metadata": {},
     "output_type": "execute_result"
    }
   ],
   "source": [
    "text=\"\"\n",
    "candit = extract_mentions(text)\n",
    "candit"
   ]
  },
  {
   "cell_type": "code",
   "execution_count": 60,
   "metadata": {},
   "outputs": [
    {
     "data": {
      "text/plain": [
       "[['문재인 대통령은 독일에서 연설을 하셨다. 그의 연설은 박수를 이끌어 냈다.', [('NEW', '문재인', '그')]],\n",
       " ['이효리와 이상순은 제주도에서 민박집을 하는 컨셉의 방송에 출연 중이다. 그녀는 그를 참 좋아한다.',\n",
       "  [('NEW', '이효리', '이상순'), ('이효리', '그녀'), ('이상순', '그')]],\n",
       " ['너랑 이재훈이랑 아는 사이야? 걔가 그렇게 인기 많다며.', [('NEW', '너', '이재훈'), ('이재훈', '걔')]]]"
      ]
     },
     "execution_count": 60,
     "metadata": {},
     "output_type": "execute_result"
    }
   ],
   "source": [
    "temp=[text,[('NEW','너','이재훈'),('이재훈','걔')]]\n",
    "train_set.append(temp)\n",
    "train_set"
   ]
  },
  {
   "cell_type": "code",
   "execution_count": null,
   "metadata": {
    "collapsed": true
   },
   "outputs": [],
   "source": []
  }
 ],
 "metadata": {
  "kernelspec": {
   "display_name": "Python 3",
   "language": "python",
   "name": "python3"
  },
  "language_info": {
   "codemirror_mode": {
    "name": "ipython",
    "version": 3
   },
   "file_extension": ".py",
   "mimetype": "text/x-python",
   "name": "python",
   "nbconvert_exporter": "python",
   "pygments_lexer": "ipython3",
   "version": "3.5.2"
  }
 },
 "nbformat": 4,
 "nbformat_minor": 2
}

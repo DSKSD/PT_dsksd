{
 "cells": [
  {
   "cell_type": "code",
   "execution_count": null,
   "metadata": {
    "collapsed": false,
    "deletable": true,
    "editable": true
   },
   "outputs": [],
   "source": [
    "import torch\n",
    "from torch.autograd import Variable\n",
    "import torch.nn as nn\n",
    "import torch.nn.functional as F\n",
    "import torch.optim as optim\n",
    "import json\n",
    "import pickle\n",
    "import random\n",
    "import time\n",
    "import math\n",
    "import numpy as np\n",
    "import copy\n",
    "import os\n",
    "\n",
    "torch.manual_seed(1)"
   ]
  },
  {
   "cell_type": "code",
   "execution_count": null,
   "metadata": {
    "collapsed": false
   },
   "outputs": [],
   "source": [
    "USE_CUDA=torch.cuda.is_available()\n",
    "USE_CUDA"
   ]
  },
  {
   "cell_type": "markdown",
   "metadata": {
    "deletable": true,
    "editable": true
   },
   "source": [
    "# Prepare Data"
   ]
  },
  {
   "cell_type": "code",
   "execution_count": null,
   "metadata": {
    "collapsed": true
   },
   "outputs": [],
   "source": [
    "DIR_PATH='../../dataset/corpus/bAbI/en/'\n",
    "flist = os.listdir(DIR_PATH)"
   ]
  },
  {
   "cell_type": "code",
   "execution_count": null,
   "metadata": {
    "collapsed": true,
    "deletable": true,
    "editable": true
   },
   "outputs": [],
   "source": [
    "flatten = lambda l: [item for sublist in l for item in sublist]"
   ]
  },
  {
   "cell_type": "code",
   "execution_count": null,
   "metadata": {
    "collapsed": true
   },
   "outputs": [],
   "source": [
    "data=[]"
   ]
  },
  {
   "cell_type": "code",
   "execution_count": null,
   "metadata": {
    "collapsed": false
   },
   "outputs": [],
   "source": [
    "for f in flist:\n",
    "    if f.endswith('train.txt'):\n",
    "        fname = DIR_PATH+f\n",
    "        print(fname)\n",
    "        temp = open(fname,'r',encoding='utf-8').readlines()\n",
    "        temp = [t[:-1] for t in temp]\n",
    "        data.extend(temp)"
   ]
  },
  {
   "cell_type": "code",
   "execution_count": null,
   "metadata": {
    "collapsed": false,
    "deletable": true,
    "editable": true
   },
   "outputs": [],
   "source": [
    "len(data)"
   ]
  },
  {
   "cell_type": "code",
   "execution_count": null,
   "metadata": {
    "collapsed": true,
    "deletable": true,
    "editable": true
   },
   "outputs": [],
   "source": [
    "train=[]\n",
    "support=[]\n",
    "qa=[]"
   ]
  },
  {
   "cell_type": "code",
   "execution_count": null,
   "metadata": {
    "collapsed": true,
    "deletable": true,
    "editable": true
   },
   "outputs": [],
   "source": [
    "for d in data:\n",
    "\n",
    "    index = d.split(' ')[0]\n",
    "    if index=='1':\n",
    "        support=[]\n",
    "        qa=[]\n",
    "        \n",
    "    if '?' in d:\n",
    "        temp = d.split('\\t')\n",
    "        q = temp[0].strip().replace('?','').split(' ')[1:]\n",
    "        a = temp[1]\n",
    "        stemp = copy.deepcopy(support)\n",
    "        train.append([stemp,(q,a)])\n",
    "    else:\n",
    "        tokens = d.replace('.','').split(' ')[1:]\n",
    "        support.append(tokens)"
   ]
  },
  {
   "cell_type": "code",
   "execution_count": null,
   "metadata": {
    "collapsed": false,
    "deletable": true,
    "editable": true
   },
   "outputs": [],
   "source": [
    "random.shuffle(train)\n",
    "len(train)"
   ]
  },
  {
   "cell_type": "code",
   "execution_count": null,
   "metadata": {
    "collapsed": false,
    "deletable": true,
    "editable": true
   },
   "outputs": [],
   "source": [
    "word_to_ix={}\n",
    "target_to_ix={}\n",
    "\n",
    "\n",
    "for t in train:\n",
    "    supports = t[0]\n",
    "    q = t[1][0]\n",
    "    a = t[1][1]\n",
    "    \n",
    "    s = flatten(supports)\n",
    "    for word in s+q:\n",
    "        if word.lower() not in list(word_to_ix.keys()):\n",
    "            word_to_ix[word.lower()]=len(word_to_ix)\n",
    "     \n",
    "    if a.lower() not in list(target_to_ix.keys()):\n",
    "        target_to_ix[a.lower()] = len(target_to_ix)\n",
    "    \n",
    "ix_to_word = {v:k for k,v in word_to_ix.items()}"
   ]
  },
  {
   "cell_type": "code",
   "execution_count": null,
   "metadata": {
    "collapsed": false,
    "deletable": true,
    "editable": true
   },
   "outputs": [],
   "source": [
    "def prepare_sequence(seq):\n",
    "    idxs = list(map(lambda w: word_to_ix[w.lower()], seq))\n",
    "    tensor = torch.LongTensor(idxs)\n",
    "    if USE_CUDA: tensor = tensor.cuda()\n",
    "    \n",
    "    return Variable(tensor)"
   ]
  },
  {
   "cell_type": "code",
   "execution_count": null,
   "metadata": {
    "collapsed": true,
    "deletable": true,
    "editable": true
   },
   "outputs": [],
   "source": [
    "class RelationalNetwork(nn.Module):\n",
    "    def __init__(self, input_vocab_size,target_vocab_size,hidden_size, n_layers=1):\n",
    "        super(RelationalNetwork, self).__init__()\n",
    "        \n",
    "        self.input_vocab_size = input_vocab_size\n",
    "        self.target_vocab_size = target_vocab_size\n",
    "        self.hidden_size = hidden_size\n",
    "        self.n_layers = n_layers\n",
    "        \n",
    "        self.embedding = nn.Embedding(input_vocab_size, hidden_size)\n",
    "        self.lstm_o = nn.LSTM(hidden_size, hidden_size,num_layers=n_layers) # for objects\n",
    "        self.lstm_q = nn.LSTM(hidden_size, hidden_size,num_layers=n_layers) # for question (separate LSTM)\n",
    "        \n",
    "        self.relu = nn.ReLU()\n",
    "        self.reaky = nn.LeakyReLU()\n",
    "        \n",
    "        # g\n",
    "        self.g_1 = nn.Linear(hidden_size*3,256) # obj+obj+question \n",
    "        self.g_2 = nn.Linear(256,256)\n",
    "        self.g_3 = nn.Linear(256,256) # because data is much smaller compared with paper.\n",
    "        \n",
    "        # f\n",
    "        self.f_1 = nn.Linear(256,512)\n",
    "        self.f_2 = nn.Linear(512,target_vocab_size)\n",
    "        \n",
    "    def init_hidden(self):\n",
    "        \n",
    "        hidden_h = Variable(torch.randn(self.n_layers, 1, self.hidden_size))\n",
    "        hidden_c = Variable(torch.randn(self.n_layers, 1, self.hidden_size))\n",
    "        \n",
    "        if USE_CUDA:\n",
    "            hidden_h = hidden_h.cuda()\n",
    "            hidden_c = hidden_c.cuda()\n",
    "       \n",
    "        return (hidden_h,hidden_c)\n",
    "    \n",
    "    \n",
    "    def forward(self, supports, question):\n",
    "        \n",
    "        # question embedding\n",
    "        hidden_q = self.init_hidden()\n",
    "        embedded = self.embedding(question)\n",
    "        \n",
    "        output, hidden_q = self.lstm_q(embedded.view(len(question),1,-1),hidden_q)\n",
    "        \n",
    "        q_embed = hidden_q[0]\n",
    "        \n",
    "        # object embedding\n",
    "        obj=[]\n",
    "        for support in supports:\n",
    "            hidden_o = self.init_hidden()\n",
    "            embedded = self.embedding(support)\n",
    "            output, hidden_o = self.lstm_o(embedded.view(len(support),1,-1), hidden_o)\n",
    "            obj.append(hidden_o[0])\n",
    "        \n",
    "        # g\n",
    "        x_g_sum=0\n",
    "        for o_i in range(len(obj)):\n",
    "            for o_j in range(len(obj)):\n",
    "                \n",
    "                #if o_i==o_j: continue\n",
    "                \n",
    "                x_g = torch.cat((obj[o_i],obj[o_j],q_embed),2)\n",
    "                x_g = x_g.squeeze(1)\n",
    "                x_g = self.relu(self.g_1(x_g))\n",
    "                x_g = self.relu(self.g_2(x_g))\n",
    "                x_g = self.relu(self.g_3(x_g)) # because data is much smaller compared with paper.\n",
    "                x_g_sum+=x_g # element-wise sum\n",
    "        \n",
    "        # f\n",
    "        x_f = self.relu(self.f_1(x_g_sum))\n",
    "        x_f = self.f_2(x_f)\n",
    "        \n",
    "        out = F.log_softmax(x_f)\n",
    "        \n",
    "        return out"
   ]
  },
  {
   "cell_type": "markdown",
   "metadata": {
    "deletable": true,
    "editable": true
   },
   "source": [
    "### Train"
   ]
  },
  {
   "cell_type": "code",
   "execution_count": null,
   "metadata": {
    "collapsed": false,
    "deletable": true,
    "editable": true
   },
   "outputs": [],
   "source": [
    "model = RelationalNetwork(len(word_to_ix),len(target_to_ix),32)\n",
    "if USE_CUDA: model = model.cuda()\n",
    "loss_function = nn.CrossEntropyLoss()\n",
    "optimizer = optim.Adam(model.parameters(),lr=0.001) # 논문에선 2*e^-4 .==. 0.036\n",
    "losses=[]\n",
    "STEP=10 # 100 "
   ]
  },
  {
   "cell_type": "code",
   "execution_count": null,
   "metadata": {
    "collapsed": false,
    "deletable": true,
    "editable": true
   },
   "outputs": [],
   "source": [
    "for step in range(STEP):\n",
    "\n",
    "    for index, (supports,qa) in enumerate(train):\n",
    "\n",
    "\n",
    "        model.zero_grad()\n",
    "        supports = list(map(lambda s:prepare_sequence(s),supports))\n",
    "        question = prepare_sequence(qa[0])\n",
    "        answer = target_to_ix[qa[1].lower()]\n",
    "        answer = Variable(torch.LongTensor([answer]))\n",
    "        if USE_CUDA: answer = answer.cuda()\n",
    "        \n",
    "        pred = model(supports,question)\n",
    "        #print(pred)\n",
    "        loss = loss_function(pred,answer)\n",
    "        loss.backward()\n",
    "        \n",
    "        if USE_CUDA:\n",
    "            loss = loss.data.cpu().numpy()[0]\n",
    "        else:\n",
    "            loss = loss.data.numpy()[0]\n",
    "        \n",
    "        losses.append(loss)\n",
    "        torch.nn.utils.clip_grad_norm(model.parameters(), 5.0)\n",
    "\n",
    "        optimizer.step()\n",
    "\n",
    "        if index%100==0:\n",
    "            #print(pred)\n",
    "            print('STEP [%d/%d] EPOCH [%d/%d] LOSS %.4f' % (step+1,STEP,index,len(train),np.mean(losses)))\n",
    "            losses=[]\n",
    "            \n",
    "    random.shuffle(train)"
   ]
  },
  {
   "cell_type": "markdown",
   "metadata": {
    "deletable": true,
    "editable": true
   },
   "source": [
    "### Test "
   ]
  },
  {
   "cell_type": "code",
   "execution_count": null,
   "metadata": {
    "collapsed": true,
    "deletable": true,
    "editable": true
   },
   "outputs": [],
   "source": [
    "data = open('../../dataset/corpus/bAbI/en/qa1_single-supporting-fact_test.txt','r',encoding='utf-8').readlines()\n",
    "data = [d[:-1] for d in data]"
   ]
  },
  {
   "cell_type": "code",
   "execution_count": null,
   "metadata": {
    "collapsed": true,
    "deletable": true,
    "editable": true
   },
   "outputs": [],
   "source": [
    "test=[]\n",
    "support=[]\n",
    "qa=[]"
   ]
  },
  {
   "cell_type": "code",
   "execution_count": null,
   "metadata": {
    "collapsed": true,
    "deletable": true,
    "editable": true
   },
   "outputs": [],
   "source": [
    "for d in data:\n",
    "\n",
    "    index = d.split(' ')[0]\n",
    "    if index=='1':\n",
    "        support=[]\n",
    "        qa=[]\n",
    "        \n",
    "    if '?' in d:\n",
    "        temp = d.split('\\t')\n",
    "        q = temp[0].strip().replace('?','').split(' ')[1:]\n",
    "        a = temp[1]\n",
    "        stemp = copy.deepcopy(support)\n",
    "        test.append([stemp,(q,a)])\n",
    "    else:\n",
    "        tokens = d.replace('.','').split(' ')[1:]\n",
    "        support.append(tokens)"
   ]
  },
  {
   "cell_type": "code",
   "execution_count": null,
   "metadata": {
    "collapsed": true,
    "deletable": true,
    "editable": true
   },
   "outputs": [],
   "source": [
    "len(test)"
   ]
  },
  {
   "cell_type": "code",
   "execution_count": null,
   "metadata": {
    "collapsed": true,
    "deletable": true,
    "editable": true
   },
   "outputs": [],
   "source": [
    "accuracy=0"
   ]
  },
  {
   "cell_type": "code",
   "execution_count": null,
   "metadata": {
    "collapsed": true,
    "deletable": true,
    "editable": true
   },
   "outputs": [],
   "source": [
    " for index, (supports,qa) in enumerate(test):\n",
    "\n",
    "        supports = list(map(lambda s:prepare_sequence(s),supports))\n",
    "        question = prepare_sequence(qa[0])\n",
    "        answer = target_to_ix[qa[1]]\n",
    "        pred = model(supports,question)\n",
    "        v,i = torch.max(pred,1)\n",
    "        if np.equal(i.view(-1).data.tolist()[0],answer):\n",
    "            accuracy+=1\n",
    "\n",
    "print(accuracy/len(test))"
   ]
  },
  {
   "cell_type": "code",
   "execution_count": null,
   "metadata": {
    "collapsed": true,
    "deletable": true,
    "editable": true
   },
   "outputs": [],
   "source": []
  }
 ],
 "metadata": {
  "kernelspec": {
   "display_name": "Python 3",
   "language": "python",
   "name": "python3"
  },
  "language_info": {
   "codemirror_mode": {
    "name": "ipython",
    "version": 3
   },
   "file_extension": ".py",
   "mimetype": "text/x-python",
   "name": "python",
   "nbconvert_exporter": "python",
   "pygments_lexer": "ipython3",
   "version": "3.5.2"
  }
 },
 "nbformat": 4,
 "nbformat_minor": 2
}

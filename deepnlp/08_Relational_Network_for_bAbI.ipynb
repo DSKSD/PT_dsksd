{
 "cells": [
  {
   "cell_type": "code",
   "execution_count": 1,
   "metadata": {},
   "outputs": [
    {
     "data": {
      "text/plain": [
       "<torch._C.Generator at 0x7f48dc119798>"
      ]
     },
     "execution_count": 1,
     "metadata": {},
     "output_type": "execute_result"
    }
   ],
   "source": [
    "import torch\n",
    "from torch.autograd import Variable\n",
    "import torch.nn as nn\n",
    "import torch.nn.functional as F\n",
    "import torch.optim as optim\n",
    "import json\n",
    "import pickle\n",
    "import random\n",
    "import time\n",
    "import math\n",
    "import numpy as np\n",
    "import copy\n",
    "import os\n",
    "\n",
    "torch.manual_seed(1)"
   ]
  },
  {
   "cell_type": "code",
   "execution_count": 2,
   "metadata": {},
   "outputs": [
    {
     "data": {
      "text/plain": [
       "False"
      ]
     },
     "execution_count": 2,
     "metadata": {},
     "output_type": "execute_result"
    }
   ],
   "source": [
    "USE_CUDA=torch.cuda.is_available()\n",
    "USE_CUDA"
   ]
  },
  {
   "cell_type": "markdown",
   "metadata": {},
   "source": [
    "# Prepare Data"
   ]
  },
  {
   "cell_type": "code",
   "execution_count": 44,
   "metadata": {
    "collapsed": true
   },
   "outputs": [],
   "source": [
    "DIR_PATH='../../dataset/corpus/bAbI/en-10k/'\n",
    "flist = os.listdir(DIR_PATH)"
   ]
  },
  {
   "cell_type": "code",
   "execution_count": 45,
   "metadata": {
    "collapsed": true
   },
   "outputs": [],
   "source": [
    "flatten = lambda l: [item for sublist in l for item in sublist]"
   ]
  },
  {
   "cell_type": "code",
   "execution_count": 46,
   "metadata": {
    "collapsed": true
   },
   "outputs": [],
   "source": [
    "data=[]"
   ]
  },
  {
   "cell_type": "code",
   "execution_count": 47,
   "metadata": {},
   "outputs": [
    {
     "name": "stdout",
     "output_type": "stream",
     "text": [
      "../../dataset/corpus/bAbI/en-10k/qa3_three-supporting-facts_train.txt\n",
      "../../dataset/corpus/bAbI/en-10k/qa17_positional-reasoning_train.txt\n",
      "../../dataset/corpus/bAbI/en-10k/qa18_size-reasoning_train.txt\n",
      "../../dataset/corpus/bAbI/en-10k/qa11_basic-coreference_train.txt\n",
      "../../dataset/corpus/bAbI/en-10k/qa1_single-supporting-fact_train.txt\n",
      "../../dataset/corpus/bAbI/en-10k/qa12_conjunction_train.txt\n",
      "../../dataset/corpus/bAbI/en-10k/qa14_time-reasoning_train.txt\n",
      "../../dataset/corpus/bAbI/en-10k/qa13_compound-coreference_train.txt\n",
      "../../dataset/corpus/bAbI/en-10k/qa10_indefinite-knowledge_train.txt\n",
      "../../dataset/corpus/bAbI/en-10k/qa9_simple-negation_train.txt\n",
      "../../dataset/corpus/bAbI/en-10k/qa5_three-arg-relations_train.txt\n",
      "../../dataset/corpus/bAbI/en-10k/qa16_basic-induction_train.txt\n",
      "../../dataset/corpus/bAbI/en-10k/qa4_two-arg-relations_train.txt\n",
      "../../dataset/corpus/bAbI/en-10k/qa15_basic-deduction_train.txt\n",
      "../../dataset/corpus/bAbI/en-10k/qa7_counting_train.txt\n",
      "../../dataset/corpus/bAbI/en-10k/qa2_two-supporting-facts_train.txt\n",
      "../../dataset/corpus/bAbI/en-10k/qa8_lists-sets_train.txt\n",
      "../../dataset/corpus/bAbI/en-10k/qa6_yes-no-questions_train.txt\n",
      "../../dataset/corpus/bAbI/en-10k/qa20_agents-motivations_train.txt\n",
      "../../dataset/corpus/bAbI/en-10k/qa19_path-finding_train.txt\n"
     ]
    }
   ],
   "source": [
    "for f in flist:\n",
    "    if f.endswith('train.txt'):\n",
    "        fname = DIR_PATH+f\n",
    "        print(fname)\n",
    "        temp = open(fname,'r',encoding='utf-8').readlines()\n",
    "        temp = [t[:-1] for t in temp]\n",
    "        data.extend(temp)"
   ]
  },
  {
   "cell_type": "code",
   "execution_count": 3,
   "metadata": {
    "collapsed": true
   },
   "outputs": [],
   "source": [
    "data = open('../../dataset/corpus/bAbI/en/qa16_basic-induction_train.txt','r').readlines()\n",
    "data = [d[:-1] for d in data]"
   ]
  },
  {
   "cell_type": "code",
   "execution_count": 48,
   "metadata": {
    "collapsed": true
   },
   "outputs": [],
   "source": [
    "train=[]\n",
    "support=[]\n",
    "qa=[]"
   ]
  },
  {
   "cell_type": "code",
   "execution_count": 49,
   "metadata": {
    "collapsed": true
   },
   "outputs": [],
   "source": [
    "for d in data:\n",
    "\n",
    "    index = d.split(' ')[0]\n",
    "    if index=='1':\n",
    "        support=[]\n",
    "        qa=[]\n",
    "        \n",
    "    if '?' in d:\n",
    "        temp = d.split('\\t')\n",
    "        q = temp[0].strip().replace('?','').split(' ')[1:]\n",
    "        a = temp[1]\n",
    "        stemp = copy.deepcopy(support)\n",
    "        train.append([stemp,(q,a)])\n",
    "    else:\n",
    "        tokens = d.replace('.','').split(' ')[1:]\n",
    "        support.append(tokens)"
   ]
  },
  {
   "cell_type": "code",
   "execution_count": 50,
   "metadata": {},
   "outputs": [
    {
     "data": {
      "text/plain": [
       "200000"
      ]
     },
     "execution_count": 50,
     "metadata": {},
     "output_type": "execute_result"
    }
   ],
   "source": [
    "random.shuffle(train)\n",
    "len(train)"
   ]
  },
  {
   "cell_type": "code",
   "execution_count": 51,
   "metadata": {},
   "outputs": [
    {
     "data": {
      "text/plain": [
       "[[['Daniel', 'is', 'no', 'longer', 'in', 'the', 'bathroom'],\n",
       "  ['Sandra', 'is', 'no', 'longer', 'in', 'the', 'bathroom'],\n",
       "  ['John', 'is', 'in', 'the', 'hallway'],\n",
       "  ['Mary', 'travelled', 'to', 'the', 'garden']],\n",
       " (['Is', 'John', 'in', 'the', 'bedroom'], 'no')]"
      ]
     },
     "execution_count": 51,
     "metadata": {},
     "output_type": "execute_result"
    }
   ],
   "source": [
    "train[0]"
   ]
  },
  {
   "cell_type": "code",
   "execution_count": 52,
   "metadata": {},
   "outputs": [],
   "source": [
    "word_to_ix={}\n",
    "target_to_ix={}\n",
    "\n",
    "\n",
    "for t in train:\n",
    "    supports = t[0]\n",
    "    q = t[1][0]\n",
    "    a = t[1][1]\n",
    "    \n",
    "    s = flatten(supports)\n",
    "    for word in s+q:\n",
    "        if word.lower() not in list(word_to_ix.keys()):\n",
    "            word_to_ix[word.lower()]=len(word_to_ix)\n",
    "     \n",
    "    if a.lower() not in list(target_to_ix.keys()):\n",
    "        target_to_ix[a.lower()] = len(target_to_ix)\n",
    "    \n",
    "ix_to_word = {v:k for k,v in word_to_ix.items()}"
   ]
  },
  {
   "cell_type": "code",
   "execution_count": 57,
   "metadata": {},
   "outputs": [
    {
     "data": {
      "text/plain": [
       "145"
      ]
     },
     "execution_count": 57,
     "metadata": {},
     "output_type": "execute_result"
    }
   ],
   "source": [
    "len(word_to_ix)"
   ]
  },
  {
   "cell_type": "code",
   "execution_count": 11,
   "metadata": {
    "collapsed": true
   },
   "outputs": [],
   "source": [
    "def prepare_sequence(seq):\n",
    "    idxs = list(map(lambda w: word_to_ix[w.lower()], seq))\n",
    "    tensor = torch.LongTensor(idxs)\n",
    "    if USE_CUDA: tensor = tensor.cuda()\n",
    "    \n",
    "    return Variable(tensor)"
   ]
  },
  {
   "cell_type": "code",
   "execution_count": 54,
   "metadata": {
    "collapsed": true
   },
   "outputs": [],
   "source": [
    "class RelationalNetwork(nn.Module):\n",
    "    def __init__(self, input_vocab_size,target_vocab_size,hidden_size, n_layers=1):\n",
    "        super(RelationalNetwork, self).__init__()\n",
    "        \n",
    "        self.input_vocab_size = input_vocab_size\n",
    "        self.target_vocab_size = target_vocab_size\n",
    "        self.hidden_size = hidden_size\n",
    "        self.n_layers = n_layers\n",
    "        \n",
    "        self.embedding = nn.Embedding(input_vocab_size, hidden_size)\n",
    "        self.lstm_o = nn.LSTM(hidden_size, hidden_size,num_layers=n_layers) # for objects\n",
    "        self.lstm_q = nn.LSTM(hidden_size, hidden_size,num_layers=n_layers) # for question (separate LSTM)\n",
    "        \n",
    "        self.relu = nn.ReLU()\n",
    "        self.reaky = nn.LeakyReLU()\n",
    "        \n",
    "        \n",
    "        \n",
    "        # g\n",
    "        self.g_1 = nn.Linear(hidden_size*3,256) # obj+obj+question \n",
    "        self.g_2 = nn.Linear(256,256)\n",
    "        self.g_3 = nn.Linear(256,256) # data is much smaller compared with paper.\n",
    "        self.g_4 = nn.Linear(256,256)\n",
    "        # f\n",
    "        self.f_1 = nn.Linear(256,512)\n",
    "        self.f_2 = nn.Linear(512,159)\n",
    "        self.f_3 = nn.Linear(159,target_vocab_size)\n",
    "        \n",
    "    def init_hidden(self):\n",
    "        \n",
    "        hidden_h = Variable(torch.randn(self.n_layers, 1, self.hidden_size))\n",
    "        hidden_c = Variable(torch.randn(self.n_layers, 1, self.hidden_size))\n",
    "        \n",
    "        if USE_CUDA:\n",
    "            hidden_h = hidden_h.cuda()\n",
    "            hidden_c = hidden_c.cuda()\n",
    "       \n",
    "        return (hidden_h,hidden_c)\n",
    "    \n",
    "    \n",
    "    def forward(self, supports, question):\n",
    "        \n",
    "        # question embedding\n",
    "        hidden_q = self.init_hidden()\n",
    "        embedded = self.embedding(question)\n",
    "        output, hidden_q = self.lstm_q(embedded.view(len(question),1,-1),hidden_q)\n",
    "        q_embed = hidden_q[0]\n",
    "        \n",
    "        # object embedding\n",
    "        obj=[]\n",
    "        for support in supports:\n",
    "            hidden_o = self.init_hidden()\n",
    "            embedded = self.embedding(support)\n",
    "            output, hidden_o = self.lstm_o(embedded.view(len(support),1,-1), hidden_o)\n",
    "            obj.append(hidden_o[0])\n",
    "        \n",
    "        # g\n",
    "        x_g_sum=0\n",
    "        for o_i in range(len(obj)):\n",
    "            for o_j in range(len(obj)):\n",
    "                \n",
    "                #if o_i==o_j: continue\n",
    "                \n",
    "                x_g = torch.cat((obj[o_i],obj[o_j],q_embed),2) # object1,object2, question\n",
    "                x_g = x_g.squeeze(1)\n",
    "                x_g = self.relu(self.g_1(x_g))\n",
    "                x_g = self.relu(self.g_2(x_g))\n",
    "                x_g = self.relu(self.g_3(x_g)) \n",
    "                x_g = self.relu(self.g_4(x_g))\n",
    "                x_g_sum+=x_g # element-wise sum\n",
    "        \n",
    "        # f\n",
    "        x_f = self.relu(self.f_1(x_g_sum))\n",
    "        x_f = self.relu(self.f_2(x_f))\n",
    "        x_f = self.f_3(x_f)\n",
    "        \n",
    "        out = F.log_softmax(x_f)\n",
    "        \n",
    "        return out"
   ]
  },
  {
   "cell_type": "markdown",
   "metadata": {},
   "source": [
    "### Train"
   ]
  },
  {
   "cell_type": "code",
   "execution_count": 55,
   "metadata": {
    "collapsed": true
   },
   "outputs": [],
   "source": [
    "model = RelationalNetwork(len(word_to_ix),len(target_to_ix),32)\n",
    "if USE_CUDA: model = model.cuda()\n",
    "loss_function = nn.CrossEntropyLoss()\n",
    "optimizer = optim.Adam(model.parameters(),lr=0.036) # 논문에선 2*e^-4 .==. 0.036\n",
    "losses=[]\n",
    "STEP=30 # 100 "
   ]
  },
  {
   "cell_type": "code",
   "execution_count": 56,
   "metadata": {},
   "outputs": [
    {
     "name": "stdout",
     "output_type": "stream",
     "text": [
      "STEP [1/30] EPOCH [0/200000] LOSS 4.1563\n",
      "STEP [1/30] EPOCH [100/200000] LOSS 63.0231\n",
      "STEP [1/30] EPOCH [200/200000] LOSS 3.3209\n",
      "STEP [1/30] EPOCH [300/200000] LOSS 3.3977\n",
      "STEP [1/30] EPOCH [400/200000] LOSS 3.3747\n",
      "STEP [1/30] EPOCH [500/200000] LOSS 3.3683\n",
      "STEP [1/30] EPOCH [600/200000] LOSS 3.2013\n",
      "STEP [1/30] EPOCH [700/200000] LOSS 3.4472\n",
      "STEP [1/30] EPOCH [800/200000] LOSS 3.2229\n",
      "STEP [1/30] EPOCH [900/200000] LOSS 3.1785\n",
      "STEP [1/30] EPOCH [1000/200000] LOSS 3.3106\n",
      "STEP [1/30] EPOCH [1100/200000] LOSS 3.2408\n",
      "STEP [1/30] EPOCH [1200/200000] LOSS 3.2601\n",
      "STEP [1/30] EPOCH [1300/200000] LOSS 3.3858\n",
      "STEP [1/30] EPOCH [1400/200000] LOSS 3.2195\n",
      "STEP [1/30] EPOCH [1500/200000] LOSS 3.3562\n",
      "STEP [1/30] EPOCH [1600/200000] LOSS 3.3948\n",
      "STEP [1/30] EPOCH [1700/200000] LOSS 3.2765\n",
      "STEP [1/30] EPOCH [1800/200000] LOSS 3.3800\n",
      "STEP [1/30] EPOCH [1900/200000] LOSS 3.4528\n",
      "STEP [1/30] EPOCH [2000/200000] LOSS 3.2561\n",
      "STEP [1/30] EPOCH [2100/200000] LOSS 3.4210\n",
      "STEP [1/30] EPOCH [2200/200000] LOSS 3.3948\n",
      "STEP [1/30] EPOCH [2300/200000] LOSS 3.2745\n",
      "STEP [1/30] EPOCH [2400/200000] LOSS 3.2350\n",
      "STEP [1/30] EPOCH [2500/200000] LOSS 3.0829\n",
      "STEP [1/30] EPOCH [2600/200000] LOSS 3.2626\n",
      "STEP [1/30] EPOCH [2700/200000] LOSS 3.1527\n",
      "STEP [1/30] EPOCH [2800/200000] LOSS 3.1381\n",
      "STEP [1/30] EPOCH [2900/200000] LOSS 3.3282\n",
      "STEP [1/30] EPOCH [3000/200000] LOSS 3.2855\n",
      "STEP [1/30] EPOCH [3100/200000] LOSS 3.2117\n",
      "STEP [1/30] EPOCH [3200/200000] LOSS 3.3228\n",
      "STEP [1/30] EPOCH [3300/200000] LOSS 3.3085\n",
      "STEP [1/30] EPOCH [3400/200000] LOSS 3.3530\n",
      "STEP [1/30] EPOCH [3500/200000] LOSS 3.2491\n",
      "STEP [1/30] EPOCH [3600/200000] LOSS 3.3997\n",
      "STEP [1/30] EPOCH [3700/200000] LOSS 3.3176\n",
      "STEP [1/30] EPOCH [3800/200000] LOSS 3.2386\n",
      "STEP [1/30] EPOCH [3900/200000] LOSS 3.3095\n",
      "STEP [1/30] EPOCH [4000/200000] LOSS 3.2376\n",
      "STEP [1/30] EPOCH [4100/200000] LOSS 3.3204\n",
      "STEP [1/30] EPOCH [4200/200000] LOSS 3.2563\n",
      "STEP [1/30] EPOCH [4300/200000] LOSS 3.4365\n"
     ]
    },
    {
     "ename": "KeyboardInterrupt",
     "evalue": "",
     "output_type": "error",
     "traceback": [
      "\u001b[0;31m---------------------------------------------------------------------------\u001b[0m",
      "\u001b[0;31mKeyboardInterrupt\u001b[0m                         Traceback (most recent call last)",
      "\u001b[0;32m<ipython-input-56-11df741ac44b>\u001b[0m in \u001b[0;36m<module>\u001b[0;34m()\u001b[0m\n\u001b[1;32m     14\u001b[0m         \u001b[0;31m#print(pred)\u001b[0m\u001b[0;34m\u001b[0m\u001b[0;34m\u001b[0m\u001b[0m\n\u001b[1;32m     15\u001b[0m         \u001b[0mloss\u001b[0m \u001b[0;34m=\u001b[0m \u001b[0mloss_function\u001b[0m\u001b[0;34m(\u001b[0m\u001b[0mpred\u001b[0m\u001b[0;34m,\u001b[0m\u001b[0manswer\u001b[0m\u001b[0;34m)\u001b[0m\u001b[0;34m\u001b[0m\u001b[0m\n\u001b[0;32m---> 16\u001b[0;31m         \u001b[0mloss\u001b[0m\u001b[0;34m.\u001b[0m\u001b[0mbackward\u001b[0m\u001b[0;34m(\u001b[0m\u001b[0;34m)\u001b[0m\u001b[0;34m\u001b[0m\u001b[0m\n\u001b[0m\u001b[1;32m     17\u001b[0m \u001b[0;34m\u001b[0m\u001b[0m\n\u001b[1;32m     18\u001b[0m         \u001b[0;32mif\u001b[0m \u001b[0mUSE_CUDA\u001b[0m\u001b[0;34m:\u001b[0m\u001b[0;34m\u001b[0m\u001b[0m\n",
      "\u001b[0;32m/home/dsksd/.local/lib/python3.5/site-packages/torch/autograd/variable.py\u001b[0m in \u001b[0;36mbackward\u001b[0;34m(self, gradient, retain_variables)\u001b[0m\n\u001b[1;32m    144\u001b[0m                     'or with gradient w.r.t. the variable')\n\u001b[1;32m    145\u001b[0m             \u001b[0mgradient\u001b[0m \u001b[0;34m=\u001b[0m \u001b[0mself\u001b[0m\u001b[0;34m.\u001b[0m\u001b[0mdata\u001b[0m\u001b[0;34m.\u001b[0m\u001b[0mnew\u001b[0m\u001b[0;34m(\u001b[0m\u001b[0;34m)\u001b[0m\u001b[0;34m.\u001b[0m\u001b[0mresize_as_\u001b[0m\u001b[0;34m(\u001b[0m\u001b[0mself\u001b[0m\u001b[0;34m.\u001b[0m\u001b[0mdata\u001b[0m\u001b[0;34m)\u001b[0m\u001b[0;34m.\u001b[0m\u001b[0mfill_\u001b[0m\u001b[0;34m(\u001b[0m\u001b[0;36m1\u001b[0m\u001b[0;34m)\u001b[0m\u001b[0;34m\u001b[0m\u001b[0m\n\u001b[0;32m--> 146\u001b[0;31m         \u001b[0mself\u001b[0m\u001b[0;34m.\u001b[0m\u001b[0m_execution_engine\u001b[0m\u001b[0;34m.\u001b[0m\u001b[0mrun_backward\u001b[0m\u001b[0;34m(\u001b[0m\u001b[0;34m(\u001b[0m\u001b[0mself\u001b[0m\u001b[0;34m,\u001b[0m\u001b[0;34m)\u001b[0m\u001b[0;34m,\u001b[0m \u001b[0;34m(\u001b[0m\u001b[0mgradient\u001b[0m\u001b[0;34m,\u001b[0m\u001b[0;34m)\u001b[0m\u001b[0;34m,\u001b[0m \u001b[0mretain_variables\u001b[0m\u001b[0;34m)\u001b[0m\u001b[0;34m\u001b[0m\u001b[0m\n\u001b[0m\u001b[1;32m    147\u001b[0m \u001b[0;34m\u001b[0m\u001b[0m\n\u001b[1;32m    148\u001b[0m     \u001b[0;32mdef\u001b[0m \u001b[0mregister_hook\u001b[0m\u001b[0;34m(\u001b[0m\u001b[0mself\u001b[0m\u001b[0;34m,\u001b[0m \u001b[0mhook\u001b[0m\u001b[0;34m)\u001b[0m\u001b[0;34m:\u001b[0m\u001b[0;34m\u001b[0m\u001b[0m\n",
      "\u001b[0;31mKeyboardInterrupt\u001b[0m: "
     ]
    }
   ],
   "source": [
    "for step in range(STEP):\n",
    "    step_losses=[]\n",
    "    for index, (supports,qa) in enumerate(train):\n",
    "\n",
    "\n",
    "        model.zero_grad()\n",
    "        supports = list(map(lambda s:prepare_sequence(s),supports))\n",
    "        question = prepare_sequence(qa[0])\n",
    "        answer = target_to_ix[qa[1].lower()]\n",
    "        answer = Variable(torch.LongTensor([answer]))\n",
    "        if USE_CUDA: answer = answer.cuda()\n",
    "        \n",
    "        pred = model(supports,question)\n",
    "        #print(pred)\n",
    "        loss = loss_function(pred,answer)\n",
    "        loss.backward()\n",
    "        \n",
    "        if USE_CUDA:\n",
    "            loss = loss.data.cpu().numpy()[0]\n",
    "        else:\n",
    "            loss = loss.data.numpy()[0]\n",
    "        \n",
    "        losses.append(loss)\n",
    "        step_losses.append(loss)\n",
    "        torch.nn.utils.clip_grad_norm(model.parameters(), 5.0)\n",
    "\n",
    "        optimizer.step()\n",
    "\n",
    "        if index%100==0:\n",
    "            #print(pred)\n",
    "            print('STEP [%d/%d] EPOCH [%d/%d] LOSS %.4f' % (step+1,STEP,index,len(train),np.mean(losses)))\n",
    "            losses=[]\n",
    "    print('%d STEP LOSS %.4f' % (step+1,np.mean(step_losses)))      \n",
    "    random.shuffle(train)"
   ]
  },
  {
   "cell_type": "markdown",
   "metadata": {},
   "source": [
    "### Test "
   ]
  },
  {
   "cell_type": "code",
   "execution_count": 26,
   "metadata": {
    "collapsed": true
   },
   "outputs": [],
   "source": [
    "data = open('../../dataset/corpus/bAbI/en/qa16_basic-induction_test.txt','r',encoding='utf-8').readlines()\n",
    "data = [d[:-1] for d in data]"
   ]
  },
  {
   "cell_type": "code",
   "execution_count": 27,
   "metadata": {
    "collapsed": true
   },
   "outputs": [],
   "source": [
    "test=[]\n",
    "support=[]\n",
    "qa=[]"
   ]
  },
  {
   "cell_type": "code",
   "execution_count": 28,
   "metadata": {
    "collapsed": true
   },
   "outputs": [],
   "source": [
    "for d in data:\n",
    "\n",
    "    index = d.split(' ')[0]\n",
    "    if index=='1':\n",
    "        support=[]\n",
    "        qa=[]\n",
    "        \n",
    "    if '?' in d:\n",
    "        temp = d.split('\\t')\n",
    "        q = temp[0].strip().replace('?','').split(' ')[1:]\n",
    "        a = temp[1]\n",
    "        stemp = copy.deepcopy(support)\n",
    "        test.append([stemp,(q,a)])\n",
    "    else:\n",
    "        tokens = d.replace('.','').split(' ')[1:]\n",
    "        support.append(tokens)"
   ]
  },
  {
   "cell_type": "code",
   "execution_count": 29,
   "metadata": {},
   "outputs": [
    {
     "data": {
      "text/plain": [
       "1000"
      ]
     },
     "execution_count": 29,
     "metadata": {},
     "output_type": "execute_result"
    }
   ],
   "source": [
    "len(test)"
   ]
  },
  {
   "cell_type": "code",
   "execution_count": 34,
   "metadata": {
    "collapsed": true
   },
   "outputs": [],
   "source": [
    "accuracy=0"
   ]
  },
  {
   "cell_type": "code",
   "execution_count": 33,
   "metadata": {},
   "outputs": [
    {
     "name": "stdout",
     "output_type": "stream",
     "text": [
      "0.466\n"
     ]
    }
   ],
   "source": [
    " for index, (supports,qa) in enumerate(test):\n",
    "\n",
    "        supports = list(map(lambda s:prepare_sequence(s),supports))\n",
    "        question = prepare_sequence(qa[0])\n",
    "        answer = target_to_ix[qa[1]]\n",
    "        pred = model(supports,question)\n",
    "        v,i = torch.max(pred,1)\n",
    "        if np.equal(i.view(-1).data.tolist()[0],answer):\n",
    "            accuracy+=1\n",
    "\n",
    "print(accuracy/len(test))"
   ]
  },
  {
   "cell_type": "code",
   "execution_count": 35,
   "metadata": {},
   "outputs": [
    {
     "name": "stdout",
     "output_type": "stream",
     "text": [
      "0.513\n"
     ]
    }
   ],
   "source": [
    " for index, (supports,qa) in enumerate(train):\n",
    "\n",
    "        supports = list(map(lambda s:prepare_sequence(s),supports))\n",
    "        question = prepare_sequence(qa[0])\n",
    "        answer = target_to_ix[qa[1]]\n",
    "        pred = model(supports,question)\n",
    "        v,i = torch.max(pred,1)\n",
    "        if np.equal(i.view(-1).data.tolist()[0],answer):\n",
    "            accuracy+=1\n",
    "\n",
    "print(accuracy/len(test))"
   ]
  },
  {
   "cell_type": "code",
   "execution_count": null,
   "metadata": {
    "collapsed": true
   },
   "outputs": [],
   "source": []
  }
 ],
 "metadata": {
  "kernelspec": {
   "display_name": "Python 3",
   "language": "python",
   "name": "python3"
  },
  "language_info": {
   "codemirror_mode": {
    "name": "ipython",
    "version": 3
   },
   "file_extension": ".py",
   "mimetype": "text/x-python",
   "name": "python",
   "nbconvert_exporter": "python",
   "pygments_lexer": "ipython3",
   "version": "3.5.2"
  }
 },
 "nbformat": 4,
 "nbformat_minor": 2
}

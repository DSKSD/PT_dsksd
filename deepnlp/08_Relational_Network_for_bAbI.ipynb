{
 "cells": [
  {
   "cell_type": "code",
   "execution_count": 180,
   "metadata": {},
   "outputs": [
    {
     "data": {
      "text/plain": [
       "<torch._C.Generator at 0x7f99ac06c798>"
      ]
     },
     "execution_count": 180,
     "metadata": {},
     "output_type": "execute_result"
    }
   ],
   "source": [
    "import torch\n",
    "from torch.autograd import Variable\n",
    "import torch.nn as nn\n",
    "import torch.nn.functional as F\n",
    "import torch.optim as optim\n",
    "import json\n",
    "import pickle\n",
    "import random\n",
    "import time\n",
    "import math\n",
    "import numpy as np\n",
    "import copy\n",
    "\n",
    "torch.manual_seed(1)"
   ]
  },
  {
   "cell_type": "markdown",
   "metadata": {},
   "source": [
    "# 데이터 준비"
   ]
  },
  {
   "cell_type": "code",
   "execution_count": 39,
   "metadata": {
    "collapsed": true
   },
   "outputs": [],
   "source": [
    "flatten = lambda l: [item for sublist in l for item in sublist]"
   ]
  },
  {
   "cell_type": "code",
   "execution_count": 2,
   "metadata": {
    "collapsed": true
   },
   "outputs": [],
   "source": [
    "data = open('../../dataset/corpus/bAbI/en/qa14_time-reasoning_train.txt','r',encoding='utf-8').readlines()\n",
    "data = [d[:-1] for d in data]"
   ]
  },
  {
   "cell_type": "code",
   "execution_count": 173,
   "metadata": {},
   "outputs": [
    {
     "data": {
      "text/plain": [
       "3372"
      ]
     },
     "execution_count": 173,
     "metadata": {},
     "output_type": "execute_result"
    }
   ],
   "source": [
    "len(data)"
   ]
  },
  {
   "cell_type": "code",
   "execution_count": 181,
   "metadata": {
    "collapsed": true
   },
   "outputs": [],
   "source": [
    "train=[]\n",
    "support=[]\n",
    "qa=[]"
   ]
  },
  {
   "cell_type": "code",
   "execution_count": 182,
   "metadata": {},
   "outputs": [],
   "source": [
    "for d in data:\n",
    "\n",
    "    index = d.split(' ')[0]\n",
    "    if index=='1':\n",
    "        support=[]\n",
    "        qa=[]\n",
    "        \n",
    "    if '?' in d:\n",
    "        temp = d.split('\\t')\n",
    "        q = temp[0].strip().replace('?','').split(' ')[1:]\n",
    "        a = temp[1]\n",
    "        stemp = copy.deepcopy(support)\n",
    "        train.append([stemp,(q,a)])\n",
    "    else:\n",
    "        tokens = d.replace('.','').split(' ')[1:]\n",
    "        support.append(tokens)"
   ]
  },
  {
   "cell_type": "code",
   "execution_count": 183,
   "metadata": {},
   "outputs": [
    {
     "data": {
      "text/plain": [
       "1000"
      ]
     },
     "execution_count": 183,
     "metadata": {},
     "output_type": "execute_result"
    }
   ],
   "source": [
    "len(train)"
   ]
  },
  {
   "cell_type": "code",
   "execution_count": 184,
   "metadata": {},
   "outputs": [],
   "source": [
    "word_to_ix={}\n",
    "target_to_ix={}\n",
    "\n",
    "for t in train:\n",
    "    supports = t[0]\n",
    "    q = t[1][0]\n",
    "    a = t[1][1]\n",
    "    \n",
    "    s = flatten(supports)\n",
    "    for word in s + q:\n",
    "        if word not in list(word_to_ix.keys()):\n",
    "            word_to_ix[word]=len(word_to_ix)\n",
    "    \n",
    "    if a not in list(target_to_ix.keys()):\n",
    "        target_to_ix[a] = len(target_to_ix)\n",
    "    \n",
    "ix_to_word = {v:k for k,v in word_to_ix.items()}"
   ]
  },
  {
   "cell_type": "code",
   "execution_count": 40,
   "metadata": {},
   "outputs": [],
   "source": [
    "def prepare_sequence(seq):\n",
    "    idxs = list(map(lambda w: word_to_ix[w], seq))\n",
    "    tensor = torch.LongTensor(idxs)\n",
    "    return Variable(tensor)"
   ]
  },
  {
   "cell_type": "code",
   "execution_count": 233,
   "metadata": {},
   "outputs": [],
   "source": [
    "class RelationalNetwork(nn.Module):\n",
    "    def __init__(self, input_size,target_size,hidden_size, n_layers=1):\n",
    "        super(RelationalNetwork, self).__init__()\n",
    "        \n",
    "        self.input_size = input_size\n",
    "        self.target_size = target_size\n",
    "        self.hidden_size = hidden_size\n",
    "        self.n_layers = n_layers\n",
    "        \n",
    "        self.embedding = nn.Embedding(input_size, hidden_size)\n",
    "        self.lstm_o = nn.LSTM(hidden_size, hidden_size,num_layers=n_layers) # for objects\n",
    "        self.lstm_q = nn.LSTM(hidden_size, hidden_size,num_layers=n_layers) # for question (separate LSTM)\n",
    "        \n",
    "        self.relu = nn.ReLU()\n",
    "        self.reaky = nn.LeakyReLU()\n",
    "        \n",
    "        # g\n",
    "        self.g_1 = nn.Linear(hidden_size*3,128) # obj+obj+question 96\n",
    "        self.g_2 = nn.Linear(128,64)\n",
    "        #self.g_3 = nn.Linear(128,128) # because data is much smaller compared with paper.\n",
    "        \n",
    "        # f\n",
    "        self.f_1 = nn.Linear(64,32)\n",
    "        self.f_2 = nn.Linear(32,target_size)\n",
    "        \n",
    "    def init_hidden(self):\n",
    "        return (Variable( torch.randn(self.n_layers, 1, self.hidden_size)),\n",
    "                 Variable( torch.randn(self.n_layers, 1, self.hidden_size)) )\n",
    "    \n",
    "    def forward(self, supports, question):\n",
    "        \n",
    "        # question embedding\n",
    "        hidden_q = self.init_hidden()\n",
    "        embedded = self.embedding(question)\n",
    "        output, hidden_q = self.lstm_q(embedded.view(len(question),1,-1),hidden_q)\n",
    "        \n",
    "        q_embed = hidden_q[0]\n",
    "        \n",
    "        # object embedding\n",
    "        obj=[]\n",
    "        for support in supports:\n",
    "            hidden_o = self.init_hidden()\n",
    "            embedded = self.embedding(support)\n",
    "            output, hidden_o = self.lstm_o(embedded.view(len(support),1,-1), hidden_o)\n",
    "            obj.append(hidden_o[0])\n",
    "        \n",
    "        # g\n",
    "        x_g_sum=0\n",
    "        for o_i in range(len(obj)):\n",
    "            for o_j in range(len(obj)):\n",
    "                \n",
    "                if o_i==o_j: continue\n",
    "                \n",
    "                x_g = torch.cat((obj[o_i],obj[o_j],q_embed),2)\n",
    "                x_g = x_g.squeeze(1)\n",
    "                x_g = self.relu(self.g_1(x_g))\n",
    "                x_g = self.relu(self.g_2(x_g))\n",
    "                #x_g = self.relu(self.g_3(x_g)) because data is much smaller compared with paper.\n",
    "                x_g_sum+=x_g # element-wise sum\n",
    "        \n",
    "        # f\n",
    "        x_f = self.relu(self.f_1(x_g_sum))\n",
    "        x_f = self.f_2(x_f)\n",
    "        \n",
    "        out = F.log_softmax(x_f)\n",
    "        \n",
    "        return out"
   ]
  },
  {
   "cell_type": "code",
   "execution_count": 234,
   "metadata": {},
   "outputs": [],
   "source": [
    "model = RelationNetwork(len(word_to_ix),len(target_to_ix),32)\n",
    "loss_function = nn.CrossEntropyLoss()\n",
    "optimizer = optim.Adam(model.parameters(),lr=0.001) # 논문에선 2*e^-4 .==. 0.036\n",
    "losses=[]\n",
    "STEP=5"
   ]
  },
  {
   "cell_type": "code",
   "execution_count": 235,
   "metadata": {},
   "outputs": [
    {
     "name": "stdout",
     "output_type": "stream",
     "text": [
      "STEP [1/5] EPOCH [0/1000] LOSS 1.6335\n",
      "STEP [1/5] EPOCH [100/1000] LOSS 2.7066\n",
      "STEP [1/5] EPOCH [200/1000] LOSS 2.3561\n",
      "STEP [1/5] EPOCH [300/1000] LOSS 2.0963\n",
      "STEP [1/5] EPOCH [400/1000] LOSS 1.9286\n"
     ]
    },
    {
     "ename": "KeyboardInterrupt",
     "evalue": "",
     "output_type": "error",
     "traceback": [
      "\u001b[0;31m---------------------------------------------------------------------------\u001b[0m",
      "\u001b[0;31mKeyboardInterrupt\u001b[0m                         Traceback (most recent call last)",
      "\u001b[0;32m<ipython-input-235-72e2ba7c4c8a>\u001b[0m in \u001b[0;36m<module>\u001b[0;34m()\u001b[0m\n\u001b[1;32m     11\u001b[0m         \u001b[0;31m#print(pred)\u001b[0m\u001b[0;34m\u001b[0m\u001b[0;34m\u001b[0m\u001b[0m\n\u001b[1;32m     12\u001b[0m         \u001b[0mloss\u001b[0m \u001b[0;34m=\u001b[0m \u001b[0mloss_function\u001b[0m\u001b[0;34m(\u001b[0m\u001b[0mpred\u001b[0m\u001b[0;34m,\u001b[0m\u001b[0mVariable\u001b[0m\u001b[0;34m(\u001b[0m\u001b[0mtorch\u001b[0m\u001b[0;34m.\u001b[0m\u001b[0mLongTensor\u001b[0m\u001b[0;34m(\u001b[0m\u001b[0;34m[\u001b[0m\u001b[0manswer\u001b[0m\u001b[0;34m]\u001b[0m\u001b[0;34m)\u001b[0m\u001b[0;34m)\u001b[0m\u001b[0;34m)\u001b[0m\u001b[0;34m\u001b[0m\u001b[0m\n\u001b[0;32m---> 13\u001b[0;31m         \u001b[0mloss\u001b[0m\u001b[0;34m.\u001b[0m\u001b[0mbackward\u001b[0m\u001b[0;34m(\u001b[0m\u001b[0;34m)\u001b[0m\u001b[0;34m\u001b[0m\u001b[0m\n\u001b[0m\u001b[1;32m     14\u001b[0m \u001b[0;34m\u001b[0m\u001b[0m\n\u001b[1;32m     15\u001b[0m         \u001b[0mlosses\u001b[0m\u001b[0;34m.\u001b[0m\u001b[0mappend\u001b[0m\u001b[0;34m(\u001b[0m\u001b[0mloss\u001b[0m\u001b[0;34m.\u001b[0m\u001b[0mdata\u001b[0m\u001b[0;34m.\u001b[0m\u001b[0mnumpy\u001b[0m\u001b[0;34m(\u001b[0m\u001b[0;34m)\u001b[0m\u001b[0;34m[\u001b[0m\u001b[0;36m0\u001b[0m\u001b[0;34m]\u001b[0m\u001b[0;34m)\u001b[0m\u001b[0;34m\u001b[0m\u001b[0m\n",
      "\u001b[0;32m/home/dsksd/.local/lib/python3.5/site-packages/torch/autograd/variable.py\u001b[0m in \u001b[0;36mbackward\u001b[0;34m(self, gradient, retain_variables)\u001b[0m\n\u001b[1;32m    144\u001b[0m                     'or with gradient w.r.t. the variable')\n\u001b[1;32m    145\u001b[0m             \u001b[0mgradient\u001b[0m \u001b[0;34m=\u001b[0m \u001b[0mself\u001b[0m\u001b[0;34m.\u001b[0m\u001b[0mdata\u001b[0m\u001b[0;34m.\u001b[0m\u001b[0mnew\u001b[0m\u001b[0;34m(\u001b[0m\u001b[0;34m)\u001b[0m\u001b[0;34m.\u001b[0m\u001b[0mresize_as_\u001b[0m\u001b[0;34m(\u001b[0m\u001b[0mself\u001b[0m\u001b[0;34m.\u001b[0m\u001b[0mdata\u001b[0m\u001b[0;34m)\u001b[0m\u001b[0;34m.\u001b[0m\u001b[0mfill_\u001b[0m\u001b[0;34m(\u001b[0m\u001b[0;36m1\u001b[0m\u001b[0;34m)\u001b[0m\u001b[0;34m\u001b[0m\u001b[0m\n\u001b[0;32m--> 146\u001b[0;31m         \u001b[0mself\u001b[0m\u001b[0;34m.\u001b[0m\u001b[0m_execution_engine\u001b[0m\u001b[0;34m.\u001b[0m\u001b[0mrun_backward\u001b[0m\u001b[0;34m(\u001b[0m\u001b[0;34m(\u001b[0m\u001b[0mself\u001b[0m\u001b[0;34m,\u001b[0m\u001b[0;34m)\u001b[0m\u001b[0;34m,\u001b[0m \u001b[0;34m(\u001b[0m\u001b[0mgradient\u001b[0m\u001b[0;34m,\u001b[0m\u001b[0;34m)\u001b[0m\u001b[0;34m,\u001b[0m \u001b[0mretain_variables\u001b[0m\u001b[0;34m)\u001b[0m\u001b[0;34m\u001b[0m\u001b[0m\n\u001b[0m\u001b[1;32m    147\u001b[0m \u001b[0;34m\u001b[0m\u001b[0m\n\u001b[1;32m    148\u001b[0m     \u001b[0;32mdef\u001b[0m \u001b[0mregister_hook\u001b[0m\u001b[0;34m(\u001b[0m\u001b[0mself\u001b[0m\u001b[0;34m,\u001b[0m \u001b[0mhook\u001b[0m\u001b[0;34m)\u001b[0m\u001b[0;34m:\u001b[0m\u001b[0;34m\u001b[0m\u001b[0m\n",
      "\u001b[0;31mKeyboardInterrupt\u001b[0m: "
     ]
    }
   ],
   "source": [
    "for step in range(STEP):\n",
    "\n",
    "    for index, (supports,qa) in enumerate(train):\n",
    "\n",
    "\n",
    "        model.zero_grad()\n",
    "        supports = list(map(lambda s:prepare_sequence(s),supports))\n",
    "        question = prepare_sequence(qa[0])\n",
    "        answer = target_to_ix[qa[1]]\n",
    "        pred = model(supports,question)\n",
    "        #print(pred)\n",
    "        loss = loss_function(pred,Variable(torch.LongTensor([answer])))\n",
    "        loss.backward()\n",
    "\n",
    "        losses.append(loss.data.numpy()[0])\n",
    "        torch.nn.utils.clip_grad_norm(model.parameters(), 5.0)\n",
    "\n",
    "        optimizer.step()\n",
    "\n",
    "        if index%100==0:\n",
    "            #print(pred)\n",
    "            print('STEP [%d/%d] EPOCH [%d/%d] LOSS %.4f' % (step+1,STEP,index,len(train),np.mean(losses)))\n",
    "            losses=[]"
   ]
  },
  {
   "cell_type": "code",
   "execution_count": null,
   "metadata": {
    "collapsed": true
   },
   "outputs": [],
   "source": []
  }
 ],
 "metadata": {
  "kernelspec": {
   "display_name": "Python 3",
   "language": "python",
   "name": "python3"
  },
  "language_info": {
   "codemirror_mode": {
    "name": "ipython",
    "version": 3
   },
   "file_extension": ".py",
   "mimetype": "text/x-python",
   "name": "python",
   "nbconvert_exporter": "python",
   "pygments_lexer": "ipython3",
   "version": "3.5.2"
  }
 },
 "nbformat": 4,
 "nbformat_minor": 2
}

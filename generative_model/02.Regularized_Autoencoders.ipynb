{
 "cells": [
  {
   "cell_type": "code",
   "execution_count": 4,
   "metadata": {
    "collapsed": true,
    "deletable": true,
    "editable": true
   },
   "outputs": [],
   "source": [
    "import torch\n",
    "import torch.nn as nn\n",
    "import torchvision.datasets as dsets\n",
    "import torchvision.transforms as transforms\n",
    "from torch.autograd import Variable\n",
    "import torch.nn.functional as F\n",
    "import matplotlib.pyplot as plt\n",
    "import random\n",
    "import numpy as np\n",
    "%matplotlib inline  "
   ]
  },
  {
   "cell_type": "markdown",
   "metadata": {
    "deletable": true,
    "editable": true
   },
   "source": [
    "### Regularized Autoencoders "
   ]
  },
  {
   "cell_type": "markdown",
   "metadata": {
    "deletable": true,
    "editable": true
   },
   "source": [
    "code($h$) dimension을 인풋 차원보다 작게 가지는 Undercomplete autoencoders는 데이터의 중요한 특징을 학습할 수 있지만 capacity가 너무 커지면 실패한다는 것을 보았다. 이러한 문제는 인풋 차원과 hidden을 같게 만들거나 더 크게 만드는 overcomplete에서도 나타나는 문제이다. "
   ]
  },
  {
   "cell_type": "markdown",
   "metadata": {
    "deletable": true,
    "editable": true
   },
   "source": [
    "이상적으로는 code dimension과 encoder, decoder의 capacity를 잘 선택하면 어떠한 오토인코더 구조도 학습할 수 있다. <strong>Regularized autoencoders</strong>도 이러한 능력을 제공한다. 인코더와 디코더를 얕게 그리고 code의 사이즈를 작게 유지하는 것 대신, regularized autoencoders는 loss function이 모델을 카피 외에도 다른 속성들을 가지도록 격려한다."
   ]
  },
  {
   "cell_type": "markdown",
   "metadata": {
    "deletable": true,
    "editable": true
   },
   "source": [
    "이러한 속성들은 <strong>sparsity of the representation, smallness of the derivative of the representation, and robustness to noise or to missing inputs</strong> 등이 있다. regularized autoencoder는 비선형이 될 수 있고 overcomplete도 될 수 있지만 여전히 데이터 분포에 대한 유용한 것들을 학습하면서도 수용력(capacity)도 훌륭하게 유지할 수 있다."
   ]
  },
  {
   "cell_type": "markdown",
   "metadata": {
    "deletable": true,
    "editable": true
   },
   "source": [
    "이 방법들은 자연스럽게 latent variables을 함께 사용하는 생성 모델과 비슷하게 볼 수 있고, 주어진 인풋으로부터 latent representations을 계산해내는 추론 절차로 사용될 수 있다. 크게 2가지 생성모델이 이러한 오토인코더의 특징을 가지고 접근한다. 그것은 <strong>Variational autoencoder</strong>와  <strong>Generative stochastic networks</strong>이다."
   ]
  },
  {
   "cell_type": "markdown",
   "metadata": {
    "deletable": true,
    "editable": true
   },
   "source": [
    "### Sparse Autoencoders "
   ]
  },
  {
   "cell_type": "markdown",
   "metadata": {
    "deletable": true,
    "editable": true
   },
   "source": [
    "* http://laonple.blog.me/220949087243\n",
    "* http://solarisailab.com/archives/113"
   ]
  },
  {
   "cell_type": "markdown",
   "metadata": {
    "deletable": true,
    "editable": true
   },
   "source": [
    "$$L(x, g(f(x))) + Ω(h) $$"
   ]
  },
  {
   "cell_type": "markdown",
   "metadata": {
    "deletable": true,
    "editable": true
   },
   "source": [
    "기존의 cost function에 hidden layer의 activation의 갯수를 제한하는 sparsity penalty를 추가한다. Sparse autoencoders는 보통 classification과 같은 다른 테스크를 위한 특징을 학습하기 위해 사용한다. 이러한 sparse로 regularized된 autoencoder는 데이터셋의 유니크한 통계적 특징을 학습한다. "
   ]
  },
  {
   "cell_type": "markdown",
   "metadata": {
    "deletable": true,
    "editable": true
   },
   "source": [
    " training with weight decay and other regularization penalties can be interpreted as a MAP approximation to Bayesian inference, with the added regularizing penalty corresponding to a prior probability distribution over the model parameters. <br>\n",
    "In this view, regularized maximum likelihood corresponds to maximizing $p(θ | x)$,which is equivalent to maximizing $log p(x | θ) +log p(θ)$. <br>\n",
    "The $log p(x | θ)$ term is the usual data log-likelihood term and the log $p(θ)$ term, the log-prior over parameters, incorporates the preference over particular values of $θ$"
   ]
  },
  {
   "cell_type": "markdown",
   "metadata": {
    "deletable": true,
    "editable": true
   },
   "source": [
    "(영어 부분) 설명과는 다르게 sparsity penalty는 베이지안적 해석을 하지 않는다? 왜냐하면 regularizer가 데이터에 의존적이고 prior라는 것이 그 정의대로 될 수 없기 때문?? 확실치 않음.. 딥러닝북 505쪽 참조 바람"
   ]
  },
  {
   "cell_type": "markdown",
   "metadata": {
    "deletable": true,
    "editable": true
   },
   "source": [
    "sparse autoencoder는 maximum likelihood를 근사하여 latent variables을 가진 생성모델을 학습하는 것으로 볼 수 있다."
   ]
  },
  {
   "cell_type": "markdown",
   "metadata": {
    "deletable": true,
    "editable": true
   },
   "source": [
    "$log p_{model}(x) = log\\sum_h p_{model}(h, x)$ <br>\n",
    "$log p_{model}(h, x) = log p_{model}(h) + log p_{model}(x | h)$<br><br>\n",
    "$Ω(h) = \\lambda\\sum_i|h_i|$<br>\n",
    "$-log p_{model}(h) = \\sum_i (\\lambda |h_i|-log \\lambda/2) = Ω(h) + const$"
   ]
  },
  {
   "cell_type": "markdown",
   "metadata": {
    "deletable": true,
    "editable": true
   },
   "source": [
    "$$\\begin{equation*} J_{sparse}(W,b)=J(W,b)+\\beta\\sum_{j=1}^{s_2} KL(\\rho||\\hat{\\rho_j}) \\end{equation*}$$"
   ]
  },
  {
   "cell_type": "markdown",
   "metadata": {
    "deletable": true,
    "editable": true
   },
   "source": [
    "### Denoising Autoencoder"
   ]
  },
  {
   "cell_type": "code",
   "execution_count": 5,
   "metadata": {
    "collapsed": true,
    "deletable": true,
    "editable": true
   },
   "outputs": [],
   "source": [
    "# Hyper Parameters \n",
    "input_size = 784\n",
    "hidden_size = 256 # undercomplete !\n",
    "num_epochs = 5\n",
    "batch_size = 100\n",
    "learning_rate = 0.01"
   ]
  },
  {
   "cell_type": "code",
   "execution_count": 6,
   "metadata": {
    "collapsed": true,
    "deletable": true,
    "editable": true
   },
   "outputs": [],
   "source": [
    "# MNIST Dataset (Images and Labels)\n",
    "train_dataset = dsets.MNIST(root='../../dataset/mnist', \n",
    "                            train=True, \n",
    "                            transform=transforms.ToTensor(),\n",
    "                            download=True)\n",
    "\n",
    "test_dataset = dsets.MNIST(root='../../dataset/mnist', \n",
    "                           train=False, \n",
    "                           transform=transforms.ToTensor())\n",
    "\n",
    "# Dataset Loader (Input Pipline)\n",
    "train_loader = torch.utils.data.DataLoader(dataset=train_dataset, \n",
    "                                           batch_size=batch_size, \n",
    "                                           shuffle=True)\n",
    "\n",
    "test_loader = torch.utils.data.DataLoader(dataset=test_dataset, \n",
    "                                          batch_size=batch_size, \n",
    "                                          shuffle=False)"
   ]
  },
  {
   "cell_type": "code",
   "execution_count": 39,
   "metadata": {
    "collapsed": true,
    "deletable": true,
    "editable": true
   },
   "outputs": [],
   "source": [
    "class Autoencoder(nn.Module):\n",
    "    def __init__(self, input_size,hidden_size):\n",
    "        super(Autoencoder, self).__init__()\n",
    "        self.f = nn.Linear(input_size, hidden_size)\n",
    "        self.g = nn.Linear(hidden_size, input_size)\n",
    "        self.sigmoid = nn.Sigmoid()\n",
    "        self.dropout_h = nn.Dropout(0.5) \n",
    "        # dropout을 sparsity penalty 대용으로 \n",
    "        # 사용하는 전략?!!\n",
    "        # sparsity penalty도 hidden layer의 activation을 꺼버려서\n",
    "        # sparse하도록 제약하는 거였으니까? KL-Divergence로..\n",
    "        \n",
    "    def forward(self, x,train=True):\n",
    "        h = self.sigmoid(self.f(x)) # nonlinearity\n",
    "        if train:\n",
    "            h = self.dropout_h(h)\n",
    "        r = self.sigmoid(self.g(h)) # nonlinearity\n",
    "        return r"
   ]
  },
  {
   "cell_type": "markdown",
   "metadata": {
    "deletable": true,
    "editable": true
   },
   "source": [
    "https://www.quora.com/Is-there-any-research-into-neural-networks-with-a-sparsity-penalty-on-the-activations"
   ]
  },
  {
   "cell_type": "code",
   "execution_count": 40,
   "metadata": {
    "collapsed": true,
    "deletable": true,
    "editable": true
   },
   "outputs": [],
   "source": [
    "model = Autoencoder(input_size,hidden_size)\n",
    "\n",
    "# Loss and Optimizer\n",
    "# Softmax is internally computed.\n",
    "# Set parameters to be updated.\n",
    "criterion = nn.MSELoss()  \n",
    "optimizer = torch.optim.Adam(model.parameters(), lr=learning_rate)  "
   ]
  },
  {
   "cell_type": "code",
   "execution_count": 41,
   "metadata": {
    "collapsed": false,
    "deletable": true,
    "editable": true
   },
   "outputs": [
    {
     "name": "stdout",
     "output_type": "stream",
     "text": [
      "Epoch: [1/5], Step: [100/600], Loss: 0.0362\n",
      "Epoch: [1/5], Step: [200/600], Loss: 0.0271\n",
      "Epoch: [1/5], Step: [300/600], Loss: 0.0264\n",
      "Epoch: [1/5], Step: [400/600], Loss: 0.0256\n",
      "Epoch: [1/5], Step: [500/600], Loss: 0.0236\n",
      "Epoch: [1/5], Step: [600/600], Loss: 0.0220\n",
      "Epoch: [2/5], Step: [100/600], Loss: 0.0221\n",
      "Epoch: [2/5], Step: [200/600], Loss: 0.0223\n",
      "Epoch: [2/5], Step: [300/600], Loss: 0.0225\n",
      "Epoch: [2/5], Step: [400/600], Loss: 0.0236\n",
      "Epoch: [2/5], Step: [500/600], Loss: 0.0239\n",
      "Epoch: [2/5], Step: [600/600], Loss: 0.0224\n",
      "Epoch: [3/5], Step: [100/600], Loss: 0.0221\n",
      "Epoch: [3/5], Step: [200/600], Loss: 0.0211\n",
      "Epoch: [3/5], Step: [300/600], Loss: 0.0232\n",
      "Epoch: [3/5], Step: [400/600], Loss: 0.0213\n",
      "Epoch: [3/5], Step: [500/600], Loss: 0.0221\n",
      "Epoch: [3/5], Step: [600/600], Loss: 0.0209\n",
      "Epoch: [4/5], Step: [100/600], Loss: 0.0220\n",
      "Epoch: [4/5], Step: [200/600], Loss: 0.0236\n",
      "Epoch: [4/5], Step: [300/600], Loss: 0.0230\n",
      "Epoch: [4/5], Step: [400/600], Loss: 0.0222\n",
      "Epoch: [4/5], Step: [500/600], Loss: 0.0221\n",
      "Epoch: [4/5], Step: [600/600], Loss: 0.0220\n",
      "Epoch: [5/5], Step: [100/600], Loss: 0.0215\n",
      "Epoch: [5/5], Step: [200/600], Loss: 0.0212\n",
      "Epoch: [5/5], Step: [300/600], Loss: 0.0219\n",
      "Epoch: [5/5], Step: [400/600], Loss: 0.0217\n",
      "Epoch: [5/5], Step: [500/600], Loss: 0.0214\n",
      "Epoch: [5/5], Step: [600/600], Loss: 0.0202\n"
     ]
    }
   ],
   "source": [
    "# Training the Model\n",
    "for epoch in range(num_epochs):\n",
    "    for i, (images, labels) in enumerate(train_loader):\n",
    "        images = Variable(images.view(-1, 28*28))\n",
    "        noised = images + 0.3*Variable(torch.randn(images.size())) # 노이즈 추가 후, 원본과 같아지도록\n",
    "        # 일케하면 더욱 강한 특징을 학습함\n",
    "        \n",
    "        # Forward + Backward + Optimize\n",
    "        optimizer.zero_grad()\n",
    "        recon = model(noised)\n",
    "        loss = criterion(recon, images)\n",
    "        loss.backward()\n",
    "        optimizer.step()\n",
    "        \n",
    "        if (i+1) % 100 == 0:\n",
    "            print ('Epoch: [%d/%d], Step: [%d/%d], Loss: %.4f' \n",
    "                   % (epoch+1, num_epochs, i+1, len(train_dataset)//batch_size, loss.data[0]))"
   ]
  },
  {
   "cell_type": "markdown",
   "metadata": {
    "deletable": true,
    "editable": true
   },
   "source": [
    "### test "
   ]
  },
  {
   "cell_type": "code",
   "execution_count": 49,
   "metadata": {
    "collapsed": false,
    "deletable": true,
    "editable": true
   },
   "outputs": [
    {
     "data": {
      "image/png": "[encoded data removed]",
      "text/plain": [
       "<matplotlib.figure.Figure at 0x7f82c854ec50>"
      ]
     },
     "metadata": {},
     "output_type": "display_data"
    },
    {
     "data": {
      "image/png": "[encoded data removed]",
      "text/plain": [
       "<matplotlib.figure.Figure at 0x7f83480c7898>"
      ]
     },
     "metadata": {},
     "output_type": "display_data"
    },
    {
     "data": {
      "image/png": "[encoded data removed]",
      "text/plain": [
       "<matplotlib.figure.Figure at 0x7f82e8f02ba8>"
      ]
     },
     "metadata": {},
     "output_type": "display_data"
    }
   ],
   "source": [
    "#index = random.choice(range(10000))\n",
    "index=7692\n",
    "test = test_dataset[index][0]\n",
    "\n",
    "plt.matshow(np.reshape(test.numpy(), (28, 28)), cmap=plt.get_cmap('gray'))\n",
    "plt.title(\"[\" + str(epoch) + \"] Original Image\\n\")\n",
    "plt.colorbar()\n",
    "plt.show()\n",
    "\n",
    "noised = Variable(test) + 0.3*Variable(torch.randn(test.size()))\n",
    "\n",
    "plt.matshow(np.reshape(noised.data.numpy(), (28, 28)), cmap=plt.get_cmap('gray'))\n",
    "plt.title(\"[\" + str(epoch) + \"] (Noised) Input Image\\n\")\n",
    "plt.colorbar()\n",
    "plt.show()\n",
    "\n",
    "recon = model(noised.view(-1,28*28),False)\n",
    "\n",
    "plt.matshow(np.reshape(recon.data.numpy(), (28, 28)), cmap=plt.get_cmap('gray'))\n",
    "plt.title(\"[\" + str(epoch) + \"] Reconstructed Image\\n\")\n",
    "plt.colorbar()\n",
    "plt.show()"
   ]
  },
  {
   "cell_type": "code",
   "execution_count": null,
   "metadata": {
    "collapsed": true,
    "deletable": true,
    "editable": true
   },
   "outputs": [],
   "source": []
  }
 ],
 "metadata": {
  "kernelspec": {
   "display_name": "Python 3",
   "language": "python",
   "name": "python3"
  },
  "language_info": {
   "codemirror_mode": {
    "name": "ipython",
    "version": 3
   },
   "file_extension": ".py",
   "mimetype": "text/x-python",
   "name": "python",
   "nbconvert_exporter": "python",
   "pygments_lexer": "ipython3",
   "version": "3.5.2"
  }
 },
 "nbformat": 4,
 "nbformat_minor": 2
}

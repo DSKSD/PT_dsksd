{
 "cells": [
  {
   "cell_type": "code",
   "execution_count": 1,
   "metadata": {
    "collapsed": true,
    "deletable": true,
    "editable": true
   },
   "outputs": [],
   "source": [
    "import torch\n",
    "import torch.nn as nn\n",
    "import torchvision.datasets as dsets\n",
    "import torchvision.transforms as transforms\n",
    "from torch.autograd import Variable\n",
    "import torch.nn.functional as F\n",
    "import matplotlib.pyplot as plt\n",
    "import random\n",
    "import numpy as np\n",
    "%matplotlib inline  "
   ]
  },
  {
   "cell_type": "markdown",
   "metadata": {
    "deletable": true,
    "editable": true
   },
   "source": [
    "오토인코더는 인풋을 아웃풋으로 복사하도록 훈련하는 뉴럴넷이다. 내부적으로 히든 레이어는 인풋을 나타내기 위한 Code를 설명한다. 이 네트워크는 아래와 같이 2가지 파트로 이루어져 있다."
   ]
  },
  {
   "cell_type": "markdown",
   "metadata": {
    "deletable": true,
    "editable": true
   },
   "source": [
    "* $h=f(x)$ : encoder (x는 인풋, h는 히든 레이어의 표현) <br>\n",
    "* $r=g(h)$ : decoder (r은 reconstructed)"
   ]
  },
  {
   "cell_type": "markdown",
   "metadata": {
    "deletable": true,
    "editable": true
   },
   "source": [
    "만약 오토인코더를 단지 $x=g(f(x))$로 둔다면 그다지 쓸모가 없을 것이다. 대신 오토인코더는 인풋을 덜 완벽하게 카피하도록 학습한다. 즉, 인풋을 근사하거나 닮게만 만드는 것이다. 왜냐하면 이를 통해, 오토인코더가 데이터 카피 그 자체가 아닌 데이터의 중요한 특성을 배우도록 하기 위해서 이다. <br>\n",
    "최근의 오터인코더들은 encoder와 decoder의 개념을 판별적 함수에서 확률적 매핑을 하도록 일반화한다. $p_{encoder}(h|x)$ and $p_{decoder}(x|h)$"
   ]
  },
  {
   "cell_type": "markdown",
   "metadata": {
    "deletable": true,
    "editable": true
   },
   "source": [
    "### Undercomplete Autoencoders "
   ]
  },
  {
   "cell_type": "markdown",
   "metadata": {
    "deletable": true,
    "editable": true
   },
   "source": [
    "인풋을 아웃풋으로 카피한다는 것이 쓸모없다고 들릴 수 있다. 하지만 우리는 디코더의 아웃풋(r)에 관심 있는 것이 아니다. 대신에 우리는 오토인코더가 카피하는 동안, <strong>h(히든 레이어)에 인풋의 유용한 속성(특징)들을 잘 뽑아내도록 학습하길 원한다.</strong>\n",
    "한가지 방법은 $h$를 $x$의 차원보다 작아지도록 제약하는 것이다. code dimension(h)의 차원이 인풋의 차원보다 작은 오토인코더를 <strong>undercomplete</strong>라 부른다. 이러한 undercomplete representation을 학습하는 것은 오토인코더가 트레이닝 데이터의 가장 중요한 특징들을 잡아내도록 해준다. \n",
    "그 학습 과정은 간단하게 아래 loss function을 최소화하도록 할 수 있다.($L$은 $g(f(x))$와 $x$가 다르다면 벌점을 주도록 하는 loss function이다. ex. mean squared error)"
   ]
  },
  {
   "cell_type": "markdown",
   "metadata": {
    "deletable": true,
    "editable": true
   },
   "source": [
    "$$L(x, g(f(x)))$$"
   ]
  },
  {
   "cell_type": "markdown",
   "metadata": {
    "deletable": true,
    "editable": true
   },
   "source": [
    "decoder가 선형이고, $L$이 mean squared error라면 undercomplete autoencoder는 PCA처럼 span을 학습한다. (learns to span the same subspace as PCA)?? <br>\n",
    "이 경우에, 오토인코더는 side-effect로서 트레이닝 데이터의 principal subspace를 학습하도록 카피 테스크를 수행한다."
   ]
  },
  {
   "cell_type": "markdown",
   "metadata": {
    "deletable": true,
    "editable": true
   },
   "source": [
    "nonliear encoder $f$와 nonlinear decoder $g$를 사용한 오토인코더는 PCA보다 더욱 강력하게 비선형적으로 일반화하여 학습할 수 있다. 하지만 만약 너무 큰 차원을 수용하려하면 이러한 기능은 잘 동작하지 않는다. "
   ]
  },
  {
   "cell_type": "code",
   "execution_count": 2,
   "metadata": {
    "collapsed": true,
    "deletable": true,
    "editable": true
   },
   "outputs": [],
   "source": [
    "# Hyper Parameters \n",
    "input_size = 784\n",
    "hidden_size = 256 # undercomplete !\n",
    "num_epochs = 5\n",
    "batch_size = 100\n",
    "learning_rate = 0.01"
   ]
  },
  {
   "cell_type": "code",
   "execution_count": 3,
   "metadata": {
    "collapsed": true,
    "deletable": true,
    "editable": true
   },
   "outputs": [],
   "source": [
    "# MNIST Dataset (Images and Labels)\n",
    "train_dataset = dsets.MNIST(root='../../dataset/mnist', \n",
    "                            train=True, \n",
    "                            transform=transforms.ToTensor(),\n",
    "                            download=True)\n",
    "\n",
    "test_dataset = dsets.MNIST(root='../../dataset/mnist', \n",
    "                           train=False, \n",
    "                           transform=transforms.ToTensor())\n",
    "\n",
    "# Dataset Loader (Input Pipline)\n",
    "train_loader = torch.utils.data.DataLoader(dataset=train_dataset, \n",
    "                                           batch_size=batch_size, \n",
    "                                           shuffle=True)\n",
    "\n",
    "test_loader = torch.utils.data.DataLoader(dataset=test_dataset, \n",
    "                                          batch_size=batch_size, \n",
    "                                          shuffle=False)"
   ]
  },
  {
   "cell_type": "code",
   "execution_count": 4,
   "metadata": {
    "collapsed": true,
    "deletable": true,
    "editable": true
   },
   "outputs": [],
   "source": [
    "class Autoencoder(nn.Module):\n",
    "    def __init__(self, input_size,hidden_size):\n",
    "        super(Autoencoder, self).__init__()\n",
    "        self.f = nn.Linear(input_size, hidden_size)\n",
    "        self.g = nn.Linear(hidden_size, input_size)\n",
    "        self.sigmoid = nn.Sigmoid()\n",
    "\n",
    "    def forward(self, x):\n",
    "        h = self.sigmoid(self.f(x)) # nonlinearity \n",
    "        r = self.sigmoid(self.g(h)) # nonlinearity\n",
    "        return r"
   ]
  },
  {
   "cell_type": "code",
   "execution_count": 5,
   "metadata": {
    "collapsed": true,
    "deletable": true,
    "editable": true
   },
   "outputs": [],
   "source": [
    "model = Autoencoder(input_size,hidden_size)\n",
    "\n",
    "# Loss and Optimizer\n",
    "# Softmax is internally computed.\n",
    "# Set parameters to be updated.\n",
    "criterion = nn.MSELoss()  \n",
    "optimizer = torch.optim.Adam(model.parameters(), lr=learning_rate)  "
   ]
  },
  {
   "cell_type": "code",
   "execution_count": 6,
   "metadata": {
    "collapsed": false,
    "deletable": true,
    "editable": true
   },
   "outputs": [
    {
     "name": "stdout",
     "output_type": "stream",
     "text": [
      "Epoch: [1/5], Step: [100/600], Loss: 0.0248\n",
      "Epoch: [1/5], Step: [200/600], Loss: 0.0126\n",
      "Epoch: [1/5], Step: [300/600], Loss: 0.0115\n",
      "Epoch: [1/5], Step: [400/600], Loss: 0.0094\n",
      "Epoch: [1/5], Step: [500/600], Loss: 0.0081\n",
      "Epoch: [1/5], Step: [600/600], Loss: 0.0068\n",
      "Epoch: [2/5], Step: [100/600], Loss: 0.0060\n",
      "Epoch: [2/5], Step: [200/600], Loss: 0.0056\n",
      "Epoch: [2/5], Step: [300/600], Loss: 0.0051\n",
      "Epoch: [2/5], Step: [400/600], Loss: 0.0045\n",
      "Epoch: [2/5], Step: [500/600], Loss: 0.0043\n",
      "Epoch: [2/5], Step: [600/600], Loss: 0.0042\n",
      "Epoch: [3/5], Step: [100/600], Loss: 0.0039\n",
      "Epoch: [3/5], Step: [200/600], Loss: 0.0031\n",
      "Epoch: [3/5], Step: [300/600], Loss: 0.0032\n",
      "Epoch: [3/5], Step: [400/600], Loss: 0.0028\n",
      "Epoch: [3/5], Step: [500/600], Loss: 0.0027\n",
      "Epoch: [3/5], Step: [600/600], Loss: 0.0025\n",
      "Epoch: [4/5], Step: [100/600], Loss: 0.0026\n",
      "Epoch: [4/5], Step: [200/600], Loss: 0.0026\n",
      "Epoch: [4/5], Step: [300/600], Loss: 0.0026\n",
      "Epoch: [4/5], Step: [400/600], Loss: 0.0025\n",
      "Epoch: [4/5], Step: [500/600], Loss: 0.0020\n",
      "Epoch: [4/5], Step: [600/600], Loss: 0.0024\n",
      "Epoch: [5/5], Step: [100/600], Loss: 0.0022\n",
      "Epoch: [5/5], Step: [200/600], Loss: 0.0020\n",
      "Epoch: [5/5], Step: [300/600], Loss: 0.0021\n",
      "Epoch: [5/5], Step: [400/600], Loss: 0.0020\n",
      "Epoch: [5/5], Step: [500/600], Loss: 0.0019\n",
      "Epoch: [5/5], Step: [600/600], Loss: 0.0019\n"
     ]
    }
   ],
   "source": [
    "# Training the Model\n",
    "for epoch in range(num_epochs):\n",
    "    for i, (images, labels) in enumerate(train_loader):\n",
    "        images = Variable(images.view(-1, 28*28))\n",
    "        labels = Variable(labels)\n",
    "        \n",
    "        # Forward + Backward + Optimize\n",
    "        optimizer.zero_grad()\n",
    "        recon = model(images)\n",
    "        loss = criterion(recon, images)\n",
    "        loss.backward()\n",
    "        optimizer.step()\n",
    "        \n",
    "        if (i+1) % 100 == 0:\n",
    "            print ('Epoch: [%d/%d], Step: [%d/%d], Loss: %.4f' \n",
    "                   % (epoch+1, num_epochs, i+1, len(train_dataset)//batch_size, loss.data[0]))"
   ]
  },
  {
   "cell_type": "markdown",
   "metadata": {
    "deletable": true,
    "editable": true
   },
   "source": [
    "### test "
   ]
  },
  {
   "cell_type": "code",
   "execution_count": 9,
   "metadata": {
    "collapsed": false,
    "deletable": true,
    "editable": true
   },
   "outputs": [
    {
     "data": {
      "text/plain": [
       "7692"
      ]
     },
     "execution_count": 9,
     "metadata": {},
     "output_type": "execute_result"
    }
   ],
   "source": [
    "index"
   ]
  },
  {
   "cell_type": "code",
   "execution_count": 8,
   "metadata": {
    "collapsed": false,
    "deletable": true,
    "editable": true
   },
   "outputs": [
    {
     "data": {
      "image/png": "[encoded data removed]",
      "text/plain": [
       "<matplotlib.figure.Figure at 0x7faac1f4ba90>"
      ]
     },
     "metadata": {},
     "output_type": "display_data"
    },
    {
     "data": {
      "image/png": "[encoded data removed]",
      "text/plain": [
       "<matplotlib.figure.Figure at 0x7faac1ea1940>"
      ]
     },
     "metadata": {},
     "output_type": "display_data"
    },
    {
     "data": {
      "image/png": "[encoded data removed]",
      "text/plain": [
       "<matplotlib.figure.Figure at 0x7faac1f89da0>"
      ]
     },
     "metadata": {},
     "output_type": "display_data"
    }
   ],
   "source": [
    "index = random.choice(range(10000))\n",
    "test = test_dataset[index][0]\n",
    "\n",
    "plt.matshow(np.reshape(test.numpy(), (28, 28)), cmap=plt.get_cmap('gray'))\n",
    "plt.title(\"[\" + str(epoch) + \"] Original Image\\n\")\n",
    "plt.colorbar()\n",
    "plt.show()\n",
    "\n",
    "noised = Variable(test) + 0.3*Variable(torch.randn(test.size()))\n",
    "\n",
    "plt.matshow(np.reshape(noised.data.numpy(), (28, 28)), cmap=plt.get_cmap('gray'))\n",
    "plt.title(\"[\" + str(epoch) + \"] (Noised) Input Image\\n\")\n",
    "plt.colorbar()\n",
    "plt.show()\n",
    "\n",
    "recon = model(noised.view(-1,28*28))\n",
    "\n",
    "plt.matshow(np.reshape(recon.data.numpy(), (28, 28)), cmap=plt.get_cmap('gray'))\n",
    "plt.title(\"[\" + str(epoch) + \"] Reconstructed Image\\n\")\n",
    "plt.colorbar()\n",
    "plt.show()"
   ]
  },
  {
   "cell_type": "code",
   "execution_count": null,
   "metadata": {
    "collapsed": true,
    "deletable": true,
    "editable": true
   },
   "outputs": [],
   "source": []
  }
 ],
 "metadata": {
  "kernelspec": {
   "display_name": "Python 3",
   "language": "python",
   "name": "python3"
  },
  "language_info": {
   "codemirror_mode": {
    "name": "ipython",
    "version": 3
   },
   "file_extension": ".py",
   "mimetype": "text/x-python",
   "name": "python",
   "nbconvert_exporter": "python",
   "pygments_lexer": "ipython3",
   "version": "3.5.2"
  }
 },
 "nbformat": 4,
 "nbformat_minor": 2
}

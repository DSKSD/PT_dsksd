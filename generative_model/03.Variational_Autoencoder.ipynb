{
 "cells": [
  {
   "cell_type": "code",
   "execution_count": 1,
   "metadata": {
    "collapsed": true,
    "deletable": true,
    "editable": true
   },
   "outputs": [],
   "source": [
    "import torch\n",
    "import torch.nn as nn\n",
    "import torchvision.datasets as dsets\n",
    "import torchvision.transforms as transforms\n",
    "from torch.autograd import Variable\n",
    "import torch.nn.functional as F\n",
    "import matplotlib.pyplot as plt\n",
    "import random\n",
    "import numpy as np\n",
    "%matplotlib inline  "
   ]
  },
  {
   "cell_type": "markdown",
   "metadata": {
    "deletable": true,
    "editable": true
   },
   "source": [
    "### Variational Autoencoder"
   ]
  },
  {
   "cell_type": "markdown",
   "metadata": {},
   "source": [
    "* https://arxiv.org/pdf/1312.6114.pdf\n",
    "* http://norman3.github.io/prml/docs/chapter10/0.html\n",
    "* http://nolsigan.com/blog/what-is-variational-autoencoder/\n",
    "* http://jaejunyoo.blogspot.com/2017/04/auto-encoding-variational-bayes-vae-2.html"
   ]
  },
  {
   "cell_type": "code",
   "execution_count": 92,
   "metadata": {
    "collapsed": true,
    "deletable": true,
    "editable": true
   },
   "outputs": [],
   "source": [
    "# Hyper Parameters \n",
    "input_size = 784\n",
    "hidden_size = 128 # undercomplete !\n",
    "num_epochs = 5\n",
    "batch_size = 100\n",
    "learning_rate = 0.001"
   ]
  },
  {
   "cell_type": "code",
   "execution_count": 51,
   "metadata": {
    "collapsed": true,
    "deletable": true,
    "editable": true
   },
   "outputs": [],
   "source": [
    "# MNIST Dataset (Images and Labels)\n",
    "train_dataset = dsets.MNIST(root='../../dataset/mnist', \n",
    "                            train=True, \n",
    "                            transform=transforms.ToTensor(),\n",
    "                            download=True)\n",
    "\n",
    "test_dataset = dsets.MNIST(root='../../dataset/mnist', \n",
    "                           train=False, \n",
    "                           transform=transforms.ToTensor())\n",
    "\n",
    "# Dataset Loader (Input Pipline)\n",
    "train_loader = torch.utils.data.DataLoader(dataset=train_dataset, \n",
    "                                           batch_size=batch_size, \n",
    "                                           shuffle=True)\n",
    "\n",
    "test_loader = torch.utils.data.DataLoader(dataset=test_dataset, \n",
    "                                          batch_size=batch_size, \n",
    "                                          shuffle=False)"
   ]
  },
  {
   "cell_type": "code",
   "execution_count": 93,
   "metadata": {
    "collapsed": true,
    "deletable": true,
    "editable": true
   },
   "outputs": [],
   "source": [
    "class Encoder(nn.Module):\n",
    "    def __init__(self, input_size,hidden_size,drop_p=0.7):\n",
    "        super(Encoder, self).__init__()\n",
    "        self.f = nn.Linear(input_size, 256)\n",
    "        self.f2 = nn.Linear(256, hidden_size)\n",
    "        self.relu = nn.ReLU()\n",
    "        self.dropout_h = nn.Dropout(drop_p) \n",
    "\n",
    "    def forward(self, x):\n",
    "        l = self.relu(self.f(x)) # nonlinearity\n",
    "        l = self.dropout_h(l)\n",
    "        l2 = self.relu(self.f2(l))\n",
    "        return l2\n",
    "\n",
    "class Decoder(nn.Module):\n",
    "    def __init__(self, input_size,hidden_size,drop_p=0.7,train=True):\n",
    "        super(Decoder, self).__init__()\n",
    "        self.f = nn.Linear(hidden_size, 256)\n",
    "        self.f2 = nn.Linear(256, input_size)\n",
    "        self.relu = nn.ReLU()\n",
    "        self.sigmoid = nn.Sigmoid()\n",
    "        self.dropout_h = nn.Dropout(drop_p)  \n",
    "        \n",
    "    def forward(self, x):\n",
    "        l = self.relu(self.f(x)) # nonlinearity\n",
    "        l2 = self.sigmoid(self.f2(l))\n",
    "        return l2"
   ]
  },
  {
   "cell_type": "markdown",
   "metadata": {},
   "source": [
    "### ELBO LOSS"
   ]
  },
  {
   "cell_type": "code",
   "execution_count": 101,
   "metadata": {
    "collapsed": false,
    "deletable": true,
    "editable": true
   },
   "outputs": [],
   "source": [
    "encoder = Encoder(input_size,hidden_size)\n",
    "decoder = Decoder(input_size,hidden_size)\n",
    "# Loss and Optimizer\n",
    "# Softmax is internally computed.\n",
    "# Set parameters to be updated.\n",
    "Recon = nn.BCELoss() \n",
    "KLD = nn.KLDivLoss()\n",
    "optimizer_encoder = torch.optim.Adam(encoder.parameters(), lr=learning_rate)\n",
    "optimizer_decoder = torch.optim.Adam(decoder.parameters(), lr=learning_rate)"
   ]
  },
  {
   "cell_type": "code",
   "execution_count": 102,
   "metadata": {
    "collapsed": false,
    "deletable": true,
    "editable": true
   },
   "outputs": [
    {
     "name": "stdout",
     "output_type": "stream",
     "text": [
      "Epoch: [1/5], Step: [100/600], Loss: 0.2528\n",
      "Epoch: [1/5], Step: [200/600], Loss: 0.2383\n",
      "Epoch: [1/5], Step: [300/600], Loss: 0.2245\n",
      "Epoch: [1/5], Step: [400/600], Loss: 0.2246\n",
      "Epoch: [1/5], Step: [500/600], Loss: 0.2037\n",
      "Epoch: [1/5], Step: [600/600], Loss: 0.2064\n",
      "Epoch: [2/5], Step: [100/600], Loss: 0.1945\n",
      "Epoch: [2/5], Step: [200/600], Loss: 0.2107\n",
      "Epoch: [2/5], Step: [300/600], Loss: 0.1857\n",
      "Epoch: [2/5], Step: [400/600], Loss: 0.1817\n",
      "Epoch: [2/5], Step: [500/600], Loss: 0.2079\n",
      "Epoch: [2/5], Step: [600/600], Loss: 0.1898\n",
      "Epoch: [3/5], Step: [100/600], Loss: 0.1842\n",
      "Epoch: [3/5], Step: [200/600], Loss: 0.1781\n",
      "Epoch: [3/5], Step: [300/600], Loss: 0.1966\n",
      "Epoch: [3/5], Step: [400/600], Loss: 0.1832\n",
      "Epoch: [3/5], Step: [500/600], Loss: 0.1841\n",
      "Epoch: [3/5], Step: [600/600], Loss: 0.1842\n",
      "Epoch: [4/5], Step: [100/600], Loss: 0.1768\n",
      "Epoch: [4/5], Step: [200/600], Loss: 0.1905\n",
      "Epoch: [4/5], Step: [300/600], Loss: 0.1855\n",
      "Epoch: [4/5], Step: [400/600], Loss: 0.1782\n",
      "Epoch: [4/5], Step: [500/600], Loss: 0.1790\n",
      "Epoch: [4/5], Step: [600/600], Loss: 0.1717\n",
      "Epoch: [5/5], Step: [100/600], Loss: 0.1903\n",
      "Epoch: [5/5], Step: [200/600], Loss: 0.1770\n",
      "Epoch: [5/5], Step: [300/600], Loss: 0.1787\n",
      "Epoch: [5/5], Step: [400/600], Loss: 0.1701\n",
      "Epoch: [5/5], Step: [500/600], Loss: 0.1732\n",
      "Epoch: [5/5], Step: [600/600], Loss: 0.1704\n"
     ]
    }
   ],
   "source": [
    "# Training the Model\n",
    "for epoch in range(num_epochs):\n",
    "    for i, (images, labels) in enumerate(train_loader):\n",
    "        images = Variable(images.view(-1, 28*28))\n",
    "        normal = Variable(torch.randn([batch_size,hidden_size])) \n",
    "        \n",
    "        # Forward + Backward + Optimize\n",
    "        optimizer_encoder.zero_grad()\n",
    "        optimizer_decoder.zero_grad()\n",
    "        \n",
    "        latent = encoder(images) # q(z|x)\n",
    "        recon = decoder(latent)\n",
    "        \n",
    "        recon_loss = Recon(recon, images)\n",
    "        kld_loss = KLD(latent,normal)\n",
    "        \n",
    "        ELBO = recon_loss-kld_loss\n",
    "        \n",
    "        ELBO.backward()\n",
    "        optimizer_encoder.step()\n",
    "        optimizer_decoder.step()\n",
    "        \n",
    "        if (i+1) % 100 == 0:\n",
    "            print ('Epoch: [%d/%d], Step: [%d/%d], Loss: %.4f' \n",
    "                   % (epoch+1, num_epochs, i+1, len(train_dataset)//batch_size, ELBO.data[0]))"
   ]
  },
  {
   "cell_type": "markdown",
   "metadata": {
    "deletable": true,
    "editable": true
   },
   "source": [
    "### test "
   ]
  },
  {
   "cell_type": "code",
   "execution_count": 112,
   "metadata": {
    "collapsed": false,
    "deletable": true,
    "editable": true
   },
   "outputs": [
    {
     "data": {
      "image/png": "[encoded data removed]",
      "text/plain": [
       "<matplotlib.figure.Figure at 0x7f8b09970198>"
      ]
     },
     "metadata": {},
     "output_type": "display_data"
    }
   ],
   "source": [
    "normal = Variable(torch.randn([1,hidden_size])) \n",
    "recon = decoder(normal)\n",
    "\n",
    "plt.matshow(np.reshape(recon.data.numpy(), (28, 28)), cmap=plt.get_cmap('gray'))\n",
    "plt.title(\"[\" + str(epoch) + \"] Generated Image\\n\")\n",
    "plt.colorbar()\n",
    "plt.show()"
   ]
  },
  {
   "cell_type": "code",
   "execution_count": null,
   "metadata": {
    "collapsed": true,
    "deletable": true,
    "editable": true
   },
   "outputs": [],
   "source": []
  }
 ],
 "metadata": {
  "kernelspec": {
   "display_name": "Python 3",
   "language": "python",
   "name": "python3"
  },
  "language_info": {
   "codemirror_mode": {
    "name": "ipython",
    "version": 3
   },
   "file_extension": ".py",
   "mimetype": "text/x-python",
   "name": "python",
   "nbconvert_exporter": "python",
   "pygments_lexer": "ipython3",
   "version": "3.5.2"
  }
 },
 "nbformat": 4,
 "nbformat_minor": 2
}

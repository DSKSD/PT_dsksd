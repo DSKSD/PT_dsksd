{
 "cells": [
  {
   "cell_type": "code",
   "execution_count": 1,
   "metadata": {},
   "outputs": [
    {
     "data": {
      "text/plain": [
       "<torch._C.Generator at 0x7f7d9012e630>"
      ]
     },
     "execution_count": 1,
     "metadata": {},
     "output_type": "execute_result"
    }
   ],
   "source": [
    "import torch\n",
    "import numpy as np\n",
    "\n",
    "torch.manual_seed(1)"
   ]
  },
  {
   "cell_type": "code",
   "execution_count": 219,
   "metadata": {
    "collapsed": true
   },
   "outputs": [],
   "source": [
    "x = torch.Tensor([[1.,0.],[1.,1.],[0.,1.],[0.,0.]])\n",
    "y = torch.Tensor([[1.],[0.],[1.],[0.]])\n",
    "\n",
    "\n",
    "relu = torch.nn.ReLU()\n",
    "sigmoid = torch.nn.Sigmoid()\n",
    "\n",
    "\n",
    "class XOR(torch.nn.Module):\n",
    "    \n",
    "    def __init__(self):\n",
    "        super(XOR,self).__init__()\n",
    "        self.linear = torch.nn.Linear(2,2)\n",
    "        self.linear2 = torch.nn.Linear(2,1)\n",
    "        \n",
    "    def forward(self,input):\n",
    "        h = self.linear(input)\n",
    "        h2 = self.linear2(relu(h))\n",
    "        out = sigmoid(h2)\n",
    "        \n",
    "        return out"
   ]
  },
  {
   "cell_type": "code",
   "execution_count": 321,
   "metadata": {},
   "outputs": [],
   "source": [
    "model = XOR()\n",
    "\n",
    "loss = torch.nn.MSELoss()\n",
    "optimizer = torch.optim.ASGD(params=model.parameters(),lr=0.01)"
   ]
  },
  {
   "cell_type": "code",
   "execution_count": 322,
   "metadata": {
    "collapsed": true
   },
   "outputs": [],
   "source": [
    "losses=[]"
   ]
  },
  {
   "cell_type": "code",
   "execution_count": 337,
   "metadata": {},
   "outputs": [],
   "source": [
    "for _ in range(10000):\n",
    "    model.zero_grad()\n",
    "    out = model(torch.autograd.Variable(x))\n",
    "    l = loss(out,torch.autograd.Variable(y))\n",
    "    losses.append(l)\n",
    "    l.backward()\n",
    "    optimizer.step()"
   ]
  },
  {
   "cell_type": "code",
   "execution_count": 338,
   "metadata": {},
   "outputs": [
    {
     "data": {
      "text/plain": [
       "Variable containing:\n",
       " 0.1674\n",
       "[torch.FloatTensor of size 1]"
      ]
     },
     "execution_count": 338,
     "metadata": {},
     "output_type": "execute_result"
    }
   ],
   "source": [
    "losses[-1]"
   ]
  },
  {
   "cell_type": "code",
   "execution_count": 339,
   "metadata": {},
   "outputs": [],
   "source": [
    "hy = model(torch.autograd.Variable(torch.ones(1,2)))"
   ]
  },
  {
   "cell_type": "code",
   "execution_count": 341,
   "metadata": {
    "collapsed": true
   },
   "outputs": [],
   "source": [
    "hy2 = model(torch.autograd.Variable(torch.Tensor([[1.,0.]])))"
   ]
  },
  {
   "cell_type": "code",
   "execution_count": 340,
   "metadata": {},
   "outputs": [
    {
     "data": {
      "text/plain": [
       "Variable containing:\n",
       " 0.8386\n",
       "[torch.FloatTensor of size 1]"
      ]
     },
     "execution_count": 340,
     "metadata": {},
     "output_type": "execute_result"
    }
   ],
   "source": [
    "hy[0] + torch.autograd.Variable(torch.Tensor([0.5]))"
   ]
  },
  {
   "cell_type": "code",
   "execution_count": 343,
   "metadata": {},
   "outputs": [
    {
     "data": {
      "text/plain": [
       "Variable containing:\n",
       " 0.3386\n",
       "[torch.FloatTensor of size 1x1]"
      ]
     },
     "execution_count": 343,
     "metadata": {},
     "output_type": "execute_result"
    }
   ],
   "source": [
    "hy"
   ]
  },
  {
   "cell_type": "code",
   "execution_count": 342,
   "metadata": {},
   "outputs": [
    {
     "data": {
      "text/plain": [
       "Variable containing:\n",
       " 0.3386\n",
       "[torch.FloatTensor of size 1x1]"
      ]
     },
     "execution_count": 342,
     "metadata": {},
     "output_type": "execute_result"
    }
   ],
   "source": [
    "hy2"
   ]
  },
  {
   "cell_type": "code",
   "execution_count": null,
   "metadata": {
    "collapsed": true
   },
   "outputs": [],
   "source": []
  }
 ],
 "metadata": {
  "kernelspec": {
   "display_name": "Python 3",
   "language": "python",
   "name": "python3"
  },
  "language_info": {
   "codemirror_mode": {
    "name": "ipython",
    "version": 3
   },
   "file_extension": ".py",
   "mimetype": "text/x-python",
   "name": "python",
   "nbconvert_exporter": "python",
   "pygments_lexer": "ipython3",
   "version": "3.5.2"
  }
 },
 "nbformat": 4,
 "nbformat_minor": 2
}
